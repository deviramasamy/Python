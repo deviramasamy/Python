{
  "nbformat": 4,
  "nbformat_minor": 0,
  "metadata": {
    "colab": {
      "provenance": [],
      "authorship_tag": "ABX9TyPs2SwqTE4EdzT4IAu4Mr1v",
      "include_colab_link": true
    },
    "kernelspec": {
      "name": "python3",
      "display_name": "Python 3"
    },
    "language_info": {
      "name": "python"
    }
  },
  "cells": [
    {
      "cell_type": "markdown",
      "metadata": {
        "id": "view-in-github",
        "colab_type": "text"
      },
      "source": [
        "<a href=\"https://colab.research.google.com/github/deviramasamy/Python/blob/main/Pandas_training_1_2_23.ipynb\" target=\"_parent\"><img src=\"https://colab.research.google.com/assets/colab-badge.svg\" alt=\"Open In Colab\"/></a>"
      ]
    },
    {
      "cell_type": "code",
      "execution_count": 14,
      "metadata": {
        "colab": {
          "base_uri": "https://localhost:8080/"
        },
        "id": "9sQphMjEP5AW",
        "outputId": "1b19dc76-2abe-43c0-f3cc-823a98890f5a"
      },
      "outputs": [
        {
          "output_type": "stream",
          "name": "stdout",
          "text": [
            "  Month Store  Sales\n",
            "0   Jan     A  31037\n",
            "1   Jan     B  20722\n",
            "2   Jan     C  24557\n",
            "3   Jan     D  34649\n",
            "4   Jan     E  29795\n",
            "   Month Store  Sales\n",
            "20   May     A  29487\n",
            "21   May     B  40001\n",
            "22   May     C  46482\n",
            "23   May     D  46313\n",
            "24   May     E  47594\n",
            "(25, 3)\n",
            "<class 'pandas.core.frame.DataFrame'>\n",
            "RangeIndex: 25 entries, 0 to 24\n",
            "Data columns (total 3 columns):\n",
            " #   Column  Non-Null Count  Dtype \n",
            "---  ------  --------------  ----- \n",
            " 0   Month   25 non-null     object\n",
            " 1   Store   25 non-null     object\n",
            " 2   Sales   25 non-null     int64 \n",
            "dtypes: int64(1), object(2)\n",
            "memory usage: 728.0+ bytes\n",
            "None\n",
            "             Sales\n",
            "count     25.00000\n",
            "mean   34318.44000\n",
            "std     8604.09835\n",
            "min    20722.00000\n",
            "25%    28312.00000\n",
            "50%    31874.00000\n",
            "75%    40241.00000\n",
            "max    47814.00000\n"
          ]
        }
      ],
      "source": [
        "import pandas as pd\n",
        "\n",
        "data =pd.read_csv(\"/content/Bigmarket.csv\")\n",
        "#print(date)\n",
        "print(data.head())#1ast 5 records\n",
        "print(data.tail())#last 5 records\n",
        "\n",
        "#to find how many rows and columns\n",
        "print(data.shape)\n",
        "print(data.info())\n",
        "\n",
        "print(data.describe())\n",
        "\n"
      ]
    },
    {
      "cell_type": "code",
      "source": [
        "#specific column to see\n",
        "print(data[['Sales','Month']])\n"
      ],
      "metadata": {
        "colab": {
          "base_uri": "https://localhost:8080/"
        },
        "id": "GpeXrf8GSsWt",
        "outputId": "a7ba9f93-d9a9-4363-a229-29c84adfd3a4"
      },
      "execution_count": 26,
      "outputs": [
        {
          "output_type": "stream",
          "name": "stdout",
          "text": [
            "Month      Jan\n",
            "Store        B\n",
            "Sales    20722\n",
            "Name: 1, dtype: object\n"
          ]
        }
      ]
    },
    {
      "cell_type": "code",
      "source": [
        "#to find the index location\n",
        "print(data.iloc[1])"
      ],
      "metadata": {
        "id": "RaNBV88sTxKt",
        "outputId": "bd18c890-84e5-4095-c5b2-c0ed886c5637",
        "colab": {
          "base_uri": "https://localhost:8080/"
        }
      },
      "execution_count": 27,
      "outputs": [
        {
          "output_type": "stream",
          "name": "stdout",
          "text": [
            "Month      Jan\n",
            "Store        B\n",
            "Sales    20722\n",
            "Name: 1, dtype: object\n"
          ]
        }
      ]
    },
    {
      "cell_type": "code",
      "source": [],
      "metadata": {
        "id": "VWsktjh-TyTK"
      },
      "execution_count": null,
      "outputs": []
    }
  ]
}