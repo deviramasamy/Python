{
  "nbformat": 4,
  "nbformat_minor": 0,
  "metadata": {
    "colab": {
      "provenance": [],
      "authorship_tag": "ABX9TyOSarZTpa5CE5daMelePzRY",
      "include_colab_link": true
    },
    "kernelspec": {
      "name": "python3",
      "display_name": "Python 3"
    },
    "language_info": {
      "name": "python"
    }
  },
  "cells": [
    {
      "cell_type": "markdown",
      "metadata": {
        "id": "view-in-github",
        "colab_type": "text"
      },
      "source": [
        "<a href=\"https://colab.research.google.com/github/deviramasamy/Python/blob/main/Pandas_training_1_2_23.ipynb\" target=\"_parent\"><img src=\"https://colab.research.google.com/assets/colab-badge.svg\" alt=\"Open In Colab\"/></a>"
      ]
    },
    {
      "cell_type": "code",
      "execution_count": 14,
      "metadata": {
        "colab": {
          "base_uri": "https://localhost:8080/"
        },
        "id": "9sQphMjEP5AW",
        "outputId": "1b19dc76-2abe-43c0-f3cc-823a98890f5a"
      },
      "outputs": [
        {
          "output_type": "stream",
          "name": "stdout",
          "text": [
            "  Month Store  Sales\n",
            "0   Jan     A  31037\n",
            "1   Jan     B  20722\n",
            "2   Jan     C  24557\n",
            "3   Jan     D  34649\n",
            "4   Jan     E  29795\n",
            "   Month Store  Sales\n",
            "20   May     A  29487\n",
            "21   May     B  40001\n",
            "22   May     C  46482\n",
            "23   May     D  46313\n",
            "24   May     E  47594\n",
            "(25, 3)\n",
            "<class 'pandas.core.frame.DataFrame'>\n",
            "RangeIndex: 25 entries, 0 to 24\n",
            "Data columns (total 3 columns):\n",
            " #   Column  Non-Null Count  Dtype \n",
            "---  ------  --------------  ----- \n",
            " 0   Month   25 non-null     object\n",
            " 1   Store   25 non-null     object\n",
            " 2   Sales   25 non-null     int64 \n",
            "dtypes: int64(1), object(2)\n",
            "memory usage: 728.0+ bytes\n",
            "None\n",
            "             Sales\n",
            "count     25.00000\n",
            "mean   34318.44000\n",
            "std     8604.09835\n",
            "min    20722.00000\n",
            "25%    28312.00000\n",
            "50%    31874.00000\n",
            "75%    40241.00000\n",
            "max    47814.00000\n"
          ]
        }
      ],
      "source": [
        "import pandas as pd\n",
        "\n",
        "data =pd.read_csv(\"/content/Bigmarket.csv\")\n",
        "#print(date)\n",
        "print(data.head())#1ast 5 records\n",
        "print(data.tail())#last 5 records\n",
        "\n",
        "#to find how many rows and columns\n",
        "print(data.shape)\n",
        "print(data.info())\n",
        "\n",
        "print(data.describe())\n",
        "\n"
      ]
    },
    {
      "cell_type": "code",
      "source": [
        "#specific column to see\n",
        "print(data[['Sales','Month']])\n"
      ],
      "metadata": {
        "colab": {
          "base_uri": "https://localhost:8080/"
        },
        "id": "GpeXrf8GSsWt",
        "outputId": "a7ba9f93-d9a9-4363-a229-29c84adfd3a4"
      },
      "execution_count": 26,
      "outputs": [
        {
          "output_type": "stream",
          "name": "stdout",
          "text": [
            "Month      Jan\n",
            "Store        B\n",
            "Sales    20722\n",
            "Name: 1, dtype: object\n"
          ]
        }
      ]
    },
    {
      "cell_type": "code",
      "source": [
        "#to find the index location-iloc function\n",
        "print(data.iloc[1])\n",
        "print(data.iloc[2:5]['Sales'])\n"
      ],
      "metadata": {
        "colab": {
          "base_uri": "https://localhost:8080/"
        },
        "id": "RaNBV88sTxKt",
        "outputId": "299ea22f-e5cf-4c93-f409-887e9dfac0e5"
      },
      "execution_count": 32,
      "outputs": [
        {
          "output_type": "stream",
          "name": "stdout",
          "text": [
            "Month      Jan\n",
            "Store        B\n",
            "Sales    20722\n",
            "Name: 1, dtype: object\n",
            "2    24557\n",
            "3    34649\n",
            "4    29795\n",
            "Name: Sales, dtype: int64\n"
          ]
        }
      ]
    },
    {
      "cell_type": "code",
      "source": [
        "#filter the data\n",
        "print(data[data.Sales>14000])"
      ],
      "metadata": {
        "colab": {
          "base_uri": "https://localhost:8080/"
        },
        "id": "VWsktjh-TyTK",
        "outputId": "77d94ad1-5d99-4072-bdd2-40655830fc21"
      },
      "execution_count": 33,
      "outputs": [
        {
          "output_type": "stream",
          "name": "stdout",
          "text": [
            "    Month Store  Sales\n",
            "0     Jan     A  31037\n",
            "1     Jan     B  20722\n",
            "2     Jan     C  24557\n",
            "3     Jan     D  34649\n",
            "4     Jan     E  29795\n",
            "5     Feb     A  29133\n",
            "6     Feb     B  22695\n",
            "7     Feb     C  28312\n",
            "8     Feb     D  31454\n",
            "9     Feb     E  46267\n",
            "10  March     A  32961\n",
            "11  March     B  26451\n",
            "12  March     C  47814\n",
            "13  March     D  36069\n",
            "14  March     E  31874\n",
            "15    Apr     A  27253\n",
            "16    Apr     B  40241\n",
            "17    Apr     C  47488\n",
            "18    Apr     D  25432\n",
            "19    Apr     E  33880\n",
            "20    May     A  29487\n",
            "21    May     B  40001\n",
            "22    May     C  46482\n",
            "23    May     D  46313\n",
            "24    May     E  47594\n"
          ]
        }
      ]
    },
    {
      "cell_type": "code",
      "source": [
        "#applying logical operators\n",
        "print(data[(data.Sales >14000) & (data.Month=='Feb')])"
      ],
      "metadata": {
        "colab": {
          "base_uri": "https://localhost:8080/"
        },
        "id": "kdaoE_oPUnLR",
        "outputId": "fcd63070-7271-4648-eb6a-ccdea3663fe9"
      },
      "execution_count": 36,
      "outputs": [
        {
          "output_type": "stream",
          "name": "stdout",
          "text": [
            "  Month Store  Sales\n",
            "5   Feb     A  29133\n",
            "6   Feb     B  22695\n",
            "7   Feb     C  28312\n",
            "8   Feb     D  31454\n",
            "9   Feb     E  46267\n"
          ]
        }
      ]
    },
    {
      "cell_type": "code",
      "source": [
        "#sorting data\n",
        "print(data.sort_values('Sales'))\n",
        "#Descending order\n",
        "print(data.sort_values('Sales',ascending=False))"
      ],
      "metadata": {
        "colab": {
          "base_uri": "https://localhost:8080/"
        },
        "id": "kFNDPJF3VUu9",
        "outputId": "2629775e-9b10-4225-da42-8af60f4b6b63"
      },
      "execution_count": 44,
      "outputs": [
        {
          "output_type": "stream",
          "name": "stdout",
          "text": [
            "    Month Store  Sales\n",
            "1     Jan     B  20722\n",
            "6     Feb     B  22695\n",
            "2     Jan     C  24557\n",
            "18    Apr     D  25432\n",
            "11  March     B  26451\n",
            "15    Apr     A  27253\n",
            "7     Feb     C  28312\n",
            "5     Feb     A  29133\n",
            "20    May     A  29487\n",
            "4     Jan     E  29795\n",
            "0     Jan     A  31037\n",
            "8     Feb     D  31454\n",
            "14  March     E  31874\n",
            "10  March     A  32961\n",
            "19    Apr     E  33880\n",
            "3     Jan     D  34649\n",
            "13  March     D  36069\n",
            "21    May     B  40001\n",
            "16    Apr     B  40241\n",
            "9     Feb     E  46267\n",
            "23    May     D  46313\n",
            "22    May     C  46482\n",
            "17    Apr     C  47488\n",
            "24    May     E  47594\n",
            "12  March     C  47814\n",
            "    Month Store  Sales\n",
            "12  March     C  47814\n",
            "24    May     E  47594\n",
            "17    Apr     C  47488\n",
            "22    May     C  46482\n",
            "23    May     D  46313\n",
            "9     Feb     E  46267\n",
            "16    Apr     B  40241\n",
            "21    May     B  40001\n",
            "13  March     D  36069\n",
            "3     Jan     D  34649\n",
            "19    Apr     E  33880\n",
            "10  March     A  32961\n",
            "14  March     E  31874\n",
            "8     Feb     D  31454\n",
            "0     Jan     A  31037\n",
            "4     Jan     E  29795\n",
            "20    May     A  29487\n",
            "5     Feb     A  29133\n",
            "7     Feb     C  28312\n",
            "15    Apr     A  27253\n",
            "11  March     B  26451\n",
            "18    Apr     D  25432\n",
            "2     Jan     C  24557\n",
            "6     Feb     B  22695\n",
            "1     Jan     B  20722\n"
          ]
        }
      ]
    },
    {
      "cell_type": "code",
      "source": [
        "#sorting with specific rows\n",
        "print(data.sort_values('Sales').iloc[:3])\n",
        "print(data.sort_values('Sales')[0:3])\n",
        "print(data.sort_values(['Store','Sales']))"
      ],
      "metadata": {
        "colab": {
          "base_uri": "https://localhost:8080/"
        },
        "id": "QzBMko7jWHef",
        "outputId": "f54f5fb4-c357-41c0-f695-d43ca7047bed"
      },
      "execution_count": 50,
      "outputs": [
        {
          "output_type": "stream",
          "name": "stdout",
          "text": [
            "  Month Store  Sales\n",
            "1   Jan     B  20722\n",
            "6   Feb     B  22695\n",
            "2   Jan     C  24557\n",
            "  Month Store  Sales\n",
            "1   Jan     B  20722\n",
            "6   Feb     B  22695\n",
            "2   Jan     C  24557\n",
            "    Month Store  Sales\n",
            "15    Apr     A  27253\n",
            "5     Feb     A  29133\n",
            "20    May     A  29487\n",
            "0     Jan     A  31037\n",
            "10  March     A  32961\n",
            "1     Jan     B  20722\n",
            "6     Feb     B  22695\n",
            "11  March     B  26451\n",
            "21    May     B  40001\n",
            "16    Apr     B  40241\n",
            "2     Jan     C  24557\n",
            "7     Feb     C  28312\n",
            "22    May     C  46482\n",
            "17    Apr     C  47488\n",
            "12  March     C  47814\n",
            "18    Apr     D  25432\n",
            "8     Feb     D  31454\n",
            "3     Jan     D  34649\n",
            "13  March     D  36069\n",
            "23    May     D  46313\n",
            "4     Jan     E  29795\n",
            "14  March     E  31874\n",
            "19    Apr     E  33880\n",
            "9     Feb     E  46267\n",
            "24    May     E  47594\n"
          ]
        }
      ]
    },
    {
      "cell_type": "code",
      "source": [
        "#Insert data into the list\n",
        "#create new Dataframe\n",
        "dic1={'Month':['Jun','Jun','Jun','Jun','Jun',],\n",
        "       'Store':['A','B','C','D','E'],\n",
        "       'Sales':[20000,35000,56000,34000,67000]\n",
        "       }\n",
        "     \n",
        "dic2=pd.DataFrame(dic1)   \n",
        "print(dic2) \n",
        "\n",
        "#append 2 Dataframe and ignore the index\n",
        "\n",
        "print(data.append(dic2,ignore_index=True))\n",
        "\n",
        "#another way-concat\n",
        "\n",
        "print(pd.concat([data,dic2],ignore_index=True))"
      ],
      "metadata": {
        "colab": {
          "base_uri": "https://localhost:8080/"
        },
        "id": "QWxeRwIAX3Rb",
        "outputId": "d449ebb2-0a59-4a6b-d4f2-1ac73474d548"
      },
      "execution_count": 59,
      "outputs": [
        {
          "output_type": "stream",
          "name": "stdout",
          "text": [
            "  Month Store  Sales\n",
            "0   Jun     A  20000\n",
            "1   Jun     B  35000\n",
            "2   Jun     C  56000\n",
            "3   Jun     D  34000\n",
            "4   Jun     E  67000\n",
            "    Month Store  Sales\n",
            "0     Jan     A  31037\n",
            "1     Jan     B  20722\n",
            "2     Jan     C  24557\n",
            "3     Jan     D  34649\n",
            "4     Jan     E  29795\n",
            "5     Feb     A  29133\n",
            "6     Feb     B  22695\n",
            "7     Feb     C  28312\n",
            "8     Feb     D  31454\n",
            "9     Feb     E  46267\n",
            "10  March     A  32961\n",
            "11  March     B  26451\n",
            "12  March     C  47814\n",
            "13  March     D  36069\n",
            "14  March     E  31874\n",
            "15    Apr     A  27253\n",
            "16    Apr     B  40241\n",
            "17    Apr     C  47488\n",
            "18    Apr     D  25432\n",
            "19    Apr     E  33880\n",
            "20    May     A  29487\n",
            "21    May     B  40001\n",
            "22    May     C  46482\n",
            "23    May     D  46313\n",
            "24    May     E  47594\n",
            "25    Jun     A  20000\n",
            "26    Jun     B  35000\n",
            "27    Jun     C  56000\n",
            "28    Jun     D  34000\n",
            "29    Jun     E  67000\n",
            "    Month Store  Sales\n",
            "0     Jan     A  31037\n",
            "1     Jan     B  20722\n",
            "2     Jan     C  24557\n",
            "3     Jan     D  34649\n",
            "4     Jan     E  29795\n",
            "5     Feb     A  29133\n",
            "6     Feb     B  22695\n",
            "7     Feb     C  28312\n",
            "8     Feb     D  31454\n",
            "9     Feb     E  46267\n",
            "10  March     A  32961\n",
            "11  March     B  26451\n",
            "12  March     C  47814\n",
            "13  March     D  36069\n",
            "14  March     E  31874\n",
            "15    Apr     A  27253\n",
            "16    Apr     B  40241\n",
            "17    Apr     C  47488\n",
            "18    Apr     D  25432\n",
            "19    Apr     E  33880\n",
            "20    May     A  29487\n",
            "21    May     B  40001\n",
            "22    May     C  46482\n",
            "23    May     D  46313\n",
            "24    May     E  47594\n",
            "25    Jun     A  20000\n",
            "26    Jun     B  35000\n",
            "27    Jun     C  56000\n",
            "28    Jun     D  34000\n",
            "29    Jun     E  67000\n"
          ]
        }
      ]
    },
    {
      "cell_type": "code",
      "source": [
        "#to add columns to the list\n",
        "state1=['Alaska','Delhi','Bombay','Kolkata','Chennai']\n",
        "state2=state1*5\n",
        "state3={'state':state2}\n",
        "newcol_state=pd.DataFrame(state3)\n",
        "print(pd.concat([data,newcol_state],axis=1))\n",
        "\n",
        "\n"
      ],
      "metadata": {
        "colab": {
          "base_uri": "https://localhost:8080/"
        },
        "id": "pXNrR7RmWoNJ",
        "outputId": "af46c097-e259-4f2f-ec01-298aed581f00"
      },
      "execution_count": 66,
      "outputs": [
        {
          "output_type": "stream",
          "name": "stdout",
          "text": [
            "    Month Store  Sales    state\n",
            "0     Jan     A  31037   Alaska\n",
            "1     Jan     B  20722    Delhi\n",
            "2     Jan     C  24557   Bombay\n",
            "3     Jan     D  34649  Kolkata\n",
            "4     Jan     E  29795  Chennai\n",
            "5     Feb     A  29133   Alaska\n",
            "6     Feb     B  22695    Delhi\n",
            "7     Feb     C  28312   Bombay\n",
            "8     Feb     D  31454  Kolkata\n",
            "9     Feb     E  46267  Chennai\n",
            "10  March     A  32961   Alaska\n",
            "11  March     B  26451    Delhi\n",
            "12  March     C  47814   Bombay\n",
            "13  March     D  36069  Kolkata\n",
            "14  March     E  31874  Chennai\n",
            "15    Apr     A  27253   Alaska\n",
            "16    Apr     B  40241    Delhi\n",
            "17    Apr     C  47488   Bombay\n",
            "18    Apr     D  25432  Kolkata\n",
            "19    Apr     E  33880  Chennai\n",
            "20    May     A  29487   Alaska\n",
            "21    May     B  40001    Delhi\n",
            "22    May     C  46482   Bombay\n",
            "23    May     D  46313  Kolkata\n",
            "24    May     E  47594  Chennai\n"
          ]
        }
      ]
    },
    {
      "cell_type": "code",
      "source": [
        "#aggregate function\n",
        "\n",
        "print(data['Sales'].sum())\n",
        "print(data['Sales'].mean())\n",
        "print(data['Sales'].max())\n",
        "print(data['Sales'].min())\n",
        "#If we want all in one we can use describe()\n",
        "print(data.describe())\n",
        "#count\n",
        "print(data['Month'].value_counts())"
      ],
      "metadata": {
        "colab": {
          "base_uri": "https://localhost:8080/"
        },
        "id": "nkywQVZ9eWPz",
        "outputId": "f4b7cd03-7c4d-46b8-cbfa-59b617a819b3"
      },
      "execution_count": 73,
      "outputs": [
        {
          "output_type": "stream",
          "name": "stdout",
          "text": [
            "857961\n",
            "34318.44\n",
            "47814\n",
            "20722\n",
            "             Sales\n",
            "count     25.00000\n",
            "mean   34318.44000\n",
            "std     8604.09835\n",
            "min    20722.00000\n",
            "25%    28312.00000\n",
            "50%    31874.00000\n",
            "75%    40241.00000\n",
            "max    47814.00000\n",
            "Jan      5\n",
            "Feb      5\n",
            "March    5\n",
            "Apr      5\n",
            "May      5\n",
            "Name: Month, dtype: int64\n"
          ]
        }
      ]
    },
    {
      "cell_type": "code",
      "source": [
        "#Update/replace a value with another value\n",
        "#11  March     B  26451    Delhi\n",
        "\n",
        "newdata=data['Sales'].replace([26451],50000)\n",
        "print(newdata)"
      ],
      "metadata": {
        "colab": {
          "base_uri": "https://localhost:8080/"
        },
        "id": "i5Qai1ohfM5J",
        "outputId": "57a6e62e-ae5c-4ac0-c7bb-209561b26fa5"
      },
      "execution_count": 82,
      "outputs": [
        {
          "output_type": "stream",
          "name": "stdout",
          "text": [
            "0     31037\n",
            "1     20722\n",
            "2     24557\n",
            "3     34649\n",
            "4     29795\n",
            "5     29133\n",
            "6     22695\n",
            "7     28312\n",
            "8     31454\n",
            "9     46267\n",
            "10    32961\n",
            "11    50000\n",
            "12    47814\n",
            "13    36069\n",
            "14    31874\n",
            "15    27253\n",
            "16    40241\n",
            "17    47488\n",
            "18    25432\n",
            "19    33880\n",
            "20    29487\n",
            "21    40001\n",
            "22    46482\n",
            "23    46313\n",
            "24    47594\n",
            "Name: Sales, dtype: int64\n"
          ]
        }
      ]
    }
  ]
}