{
  "nbformat": 4,
  "nbformat_minor": 0,
  "metadata": {
    "colab": {
      "provenance": [],
      "authorship_tag": "ABX9TyNtr85/xbXEishQfL7qETQG",
      "include_colab_link": true
    },
    "kernelspec": {
      "name": "python3",
      "display_name": "Python 3"
    },
    "language_info": {
      "name": "python"
    }
  },
  "cells": [
    {
      "cell_type": "markdown",
      "metadata": {
        "id": "view-in-github",
        "colab_type": "text"
      },
      "source": [
        "<a href=\"https://colab.research.google.com/github/deviramasamy/Python/blob/main/Pandas.ipynb\" target=\"_parent\"><img src=\"https://colab.research.google.com/assets/colab-badge.svg\" alt=\"Open In Colab\"/></a>"
      ]
    },
    {
      "cell_type": "markdown",
      "source": [
        "Pandas:\n",
        "Library in Python which is used for data processing and helps in data analysis and cleaning. Provides functions and methods to efficiently manipulate large datasets.Python Pandas can be used on any type of data.\n",
        "\n",
        "The data structure in pandsas are in series- 1 dimentional array and data frame-2 dimentional array.\n",
        "\n",
        "Series are 1 dimentional array with labels and can contain any data type.It will have index label and column label.\n",
        "Dataframe is 2 dimentional data structure with labels and can use labels to locate data. Row index and column index.\n",
        "\n",
        "In the coding Series and DataFrame are capitalised"
      ],
      "metadata": {
        "id": "prmaxS5RQ9Nl"
      }
    },
    {
      "cell_type": "code",
      "execution_count": 2,
      "metadata": {
        "colab": {
          "base_uri": "https://localhost:8080/"
        },
        "id": "xXhGJBrcQ7eH",
        "outputId": "27785eca-156a-4ce2-93cb-880e73ad92fa"
      },
      "outputs": [
        {
          "output_type": "stream",
          "name": "stdout",
          "text": [
            "1.3.5\n",
            "0    1\n",
            "1    2\n",
            "2    3\n",
            "dtype: int64\n"
          ]
        }
      ],
      "source": [
        "import pandas as pd\n",
        "#to check panda version\n",
        "print(pd.__version__)\n",
        "#to read a series\n",
        "data=pd.Series([1,2,3])\n",
        "print(data)\n"
      ]
    },
    {
      "cell_type": "code",
      "source": [
        "#@title Series create,manipulate, query and delete\n",
        "#creating a series from list\n",
        "#series is case sensitive\n",
        "series= [1,2,3,4,5]\n",
        "series1=pd.Series(series)\n",
        "print(series1)\n",
        "\n",
        "#if we want to change the index to start from 1\n",
        "order=[1,2,3,4,5]\n",
        "s1=pd.Series(series, index=order)\n",
        "print(s1)\n",
        "\n",
        "#creating numpy array and assigning an index\n",
        "\n",
        "#import numpy as np\n",
        "#n=np.random.randn(5) #creating random array\n",
        "#index=['a''b','c','d','e']\n",
        "#s2= pd.Series(n, index=index)\n",
        "#print(s2)\n",
        "\n",
        "#create series from dic\n",
        "\n",
        "dic={'a':1,'b':2,'c':3}\n",
        "s3=pd.Series(dic)\n",
        "print(s3)\n",
        "\n",
        "#modify the series of index\n",
        "print(s1)\n",
        "s1.index = ['a','b','c','d','e']\n",
        "print(s1)\n",
        "\n"
      ],
      "metadata": {
        "colab": {
          "base_uri": "https://localhost:8080/"
        },
        "id": "YOKE0M7OpcZJ",
        "outputId": "89d303b0-ddef-4529-978f-1a09ad2536b1"
      },
      "execution_count": null,
      "outputs": [
        {
          "output_type": "stream",
          "name": "stdout",
          "text": [
            "0    1\n",
            "1    2\n",
            "2    3\n",
            "3    4\n",
            "4    5\n",
            "dtype: int64\n",
            "1    1\n",
            "2    2\n",
            "3    3\n",
            "4    4\n",
            "5    5\n",
            "dtype: int64\n",
            "a    1\n",
            "b    2\n",
            "c    3\n",
            "dtype: int64\n",
            "1    1\n",
            "2    2\n",
            "3    3\n",
            "4    4\n",
            "5    5\n",
            "dtype: int64\n",
            "a    1\n",
            "b    2\n",
            "c    3\n",
            "d    4\n",
            "e    5\n",
            "dtype: int64\n"
          ]
        }
      ]
    },
    {
      "cell_type": "code",
      "source": [
        "#slicing\n",
        "sli=s1[:3]\n",
        "print(sli)\n",
        "\n",
        "sli=s1[:-1]\n",
        "print(sli)\n",
        "\n",
        "sli=s1[3:]\n",
        "print(sli)\n",
        "\n",
        "#append,drop\n",
        "s4=[6,7,8,9,10]\n",
        "s5=pd.Series(s4, index=order)\n",
        "print(s5)\n",
        "s6=s1.append(s5)\n",
        "print(s6)\n",
        "\n",
        "print(s5.drop(5))"
      ],
      "metadata": {
        "id": "BUGObQF_2xX-"
      },
      "execution_count": null,
      "outputs": []
    },
    {
      "cell_type": "code",
      "source": [
        "#@title Series Operations\n",
        "#create 2 arrays\n",
        "arr1=[1,2,3,4,5,6,7]\n",
        "arr2=[6,7,8,9,10,5]\n",
        "s7=pd.Series(arr2)\n",
        "print(s7)\n",
        "s8=pd.Series(arr1)\n",
        "print(s8)\n",
        "print(s7.add(s8))\n",
        "#sub\n",
        "#mul\n",
        "#div"
      ],
      "metadata": {
        "colab": {
          "base_uri": "https://localhost:8080/"
        },
        "id": "Ya_nVm6R3SoC",
        "outputId": "f4bcfc93-4412-4315-9ca5-679e6ad191c0"
      },
      "execution_count": null,
      "outputs": [
        {
          "output_type": "stream",
          "name": "stdout",
          "text": [
            "0     6\n",
            "1     7\n",
            "2     8\n",
            "3     9\n",
            "4    10\n",
            "5     5\n",
            "dtype: int64\n",
            "0    1\n",
            "1    2\n",
            "2    3\n",
            "3    4\n",
            "4    5\n",
            "5    6\n",
            "6    7\n",
            "dtype: int64\n",
            "0     7.0\n",
            "1     9.0\n",
            "2    11.0\n",
            "3    13.0\n",
            "4    15.0\n",
            "5    11.0\n",
            "6     NaN\n",
            "dtype: float64\n"
          ]
        }
      ]
    },
    {
      "cell_type": "code",
      "source": [
        "#median,max and min\n",
        "print('max',s7.max())\n",
        "print('min',s7.min())\n",
        "print('median',s7.median())"
      ],
      "metadata": {
        "colab": {
          "base_uri": "https://localhost:8080/"
        },
        "id": "zR6cAjBFEBKq",
        "outputId": "a17d7faf-73b8-4f17-d88f-2ae32d8759d9"
      },
      "execution_count": null,
      "outputs": [
        {
          "output_type": "stream",
          "name": "stdout",
          "text": [
            "max 10\n",
            "min 5\n",
            "median 7.5\n"
          ]
        }
      ]
    },
    {
      "cell_type": "code",
      "source": [
        "#@title Create Dataframe\n",
        "#define time sequence as Index\n",
        "import pandas as pd\n",
        "import numpy as np\n",
        "\n",
        "dates=pd.date_range('today',periods=6)\n",
        "\n",
        "#create numpy array and use dataframe\n",
        "num_arr1=np.random.randn(6,4)\n",
        "columns=['A','B','C','D']\n",
        "df1= pd.DataFrame(num_arr1, index=dates, columns=columns)\n",
        "print(df1) \n",
        "\n",
        "#create dataframe with dic array\n",
        "\n",
        "data={'animal':['cat','lion','tiger'],\n",
        "      'age':[12,14,5],\n",
        "      'visits':[1,2,3]\n",
        "      }\n",
        "labels = ['a','b','c']      \n",
        "\n",
        "df2=pd.DataFrame(data, index=labels)\n",
        "print(df2)\n",
        "\n",
        "##to find datatype\n",
        "print(df2.dtypes)\n",
        "\n",
        "print(df2.head(2))\n",
        "\n",
        "print(df2.tail(2))\n",
        "\n",
        "print(df2.index)\n",
        "print(df2.columns)\n",
        "\n",
        "#convert to numpy array - values and index don't have brackets at the end as they both are objects\n",
        "print(df2.values)\n",
        "\n"
      ],
      "metadata": {
        "colab": {
          "base_uri": "https://localhost:8080/"
        },
        "id": "G87D1EffHACM",
        "outputId": "8978f67f-c24d-4bfc-f2bf-596f30a99511"
      },
      "execution_count": 6,
      "outputs": [
        {
          "output_type": "stream",
          "name": "stdout",
          "text": [
            "                                   A         B         C         D\n",
            "2023-02-05 18:16:53.079173  0.931743 -0.304871  0.727027  0.027637\n",
            "2023-02-06 18:16:53.079173  0.706578  0.983787  0.970776 -0.156576\n",
            "2023-02-07 18:16:53.079173 -0.879780  0.631328 -0.697466 -0.993059\n",
            "2023-02-08 18:16:53.079173 -1.341098 -1.485321 -0.276186  0.890454\n",
            "2023-02-09 18:16:53.079173 -2.147605 -0.048633  0.211405 -0.406353\n",
            "2023-02-10 18:16:53.079173  0.452011 -1.533372  0.693396  0.704438\n",
            "  animal  age  visits\n",
            "a    cat   12       1\n",
            "b   lion   14       2\n",
            "c  tiger    5       3\n",
            "animal    object\n",
            "age        int64\n",
            "visits     int64\n",
            "dtype: object\n",
            "  animal  age  visits\n",
            "a    cat   12       1\n",
            "b   lion   14       2\n",
            "  animal  age  visits\n",
            "b   lion   14       2\n",
            "c  tiger    5       3\n",
            "Index(['a', 'b', 'c'], dtype='object')\n",
            "Index(['animal', 'age', 'visits'], dtype='object')\n",
            "[['cat' 12 1]\n",
            " ['lion' 14 2]\n",
            " ['tiger' 5 3]]\n"
          ]
        }
      ]
    },
    {
      "cell_type": "code",
      "source": [
        "#Describe the data-describes everything like median,max,min\n",
        "print(df2.describe())"
      ],
      "metadata": {
        "colab": {
          "base_uri": "https://localhost:8080/"
        },
        "id": "7oFXDvwOMIoX",
        "outputId": "6530745d-346d-421f-9548-48383339097d"
      },
      "execution_count": 7,
      "outputs": [
        {
          "output_type": "stream",
          "name": "stdout",
          "text": [
            "             age  visits\n",
            "count   3.000000     3.0\n",
            "mean   10.333333     2.0\n",
            "std     4.725816     1.0\n",
            "min     5.000000     1.0\n",
            "25%     8.500000     1.5\n",
            "50%    12.000000     2.0\n",
            "75%    13.000000     2.5\n",
            "max    14.000000     3.0\n"
          ]
        }
      ]
    },
    {
      "cell_type": "code",
      "source": [
        "#Manipulation of data\n",
        "#transposing-flipping column as index and index as columns\n",
        "print(df2.T)\n",
        "\n",
        "#sorting the data\n",
        "print(df2.sort_values(by='age'))\n",
        "print(df2.sort_values(by='visits'))\n",
        "\n",
        "#slicing dataframe\n",
        "print(df2[1:3])\n",
        "print(df2.sort_values(by='age')[1:3])\n",
        "\n",
        "#Query only by tags\n",
        "print(df2[['age','visits']])\n",
        "print(df2[['animal','visits']])\n",
        "\n",
        "#Indexing\n",
        "print(df2.iloc[1:4])\n",
        "\n",
        "#copy\n",
        "\n",
        "df3=df2.copy()\n",
        "\n"
      ],
      "metadata": {
        "colab": {
          "base_uri": "https://localhost:8080/"
        },
        "id": "7ych4pwDMUw8",
        "outputId": "7547129c-2c9b-4fb1-e0a6-648b5f3bfc9e"
      },
      "execution_count": 12,
      "outputs": [
        {
          "output_type": "stream",
          "name": "stdout",
          "text": [
            "          a     b      c\n",
            "animal  cat  lion  tiger\n",
            "age      12    14      5\n",
            "visits    1     2      3\n",
            "  animal  age  visits\n",
            "c  tiger    5       3\n",
            "a    cat   12       1\n",
            "b   lion   14       2\n",
            "  animal  age  visits\n",
            "a    cat   12       1\n",
            "b   lion   14       2\n",
            "c  tiger    5       3\n",
            "  animal  age  visits\n",
            "b   lion   14       2\n",
            "c  tiger    5       3\n",
            "  animal  age  visits\n",
            "a    cat   12       1\n",
            "b   lion   14       2\n",
            "   age  visits\n",
            "a   12       1\n",
            "b   14       2\n",
            "c    5       3\n",
            "  animal  visits\n",
            "a    cat       1\n",
            "b   lion       2\n",
            "c  tiger       3\n",
            "  animal  age  visits\n",
            "b   lion   14       2\n",
            "c  tiger    5       3\n"
          ]
        }
      ]
    },
    {
      "cell_type": "code",
      "source": [
        "#copy\n",
        "print(df2)\n",
        "df3=df2.copy()\n",
        "print(df3)\n",
        "\n",
        "#finding nullvalue-If there is a null value then it will return True.\n",
        "df3.isnull()\n",
        "\n",
        "#modify location\n",
        "df3.loc['c','age']=1.5\n",
        "print(df3)\n"
      ],
      "metadata": {
        "colab": {
          "base_uri": "https://localhost:8080/"
        },
        "id": "czPSZLI85FdC",
        "outputId": "2baad044-c738-4812-e8c3-5b004a298bd5"
      },
      "execution_count": 20,
      "outputs": [
        {
          "output_type": "stream",
          "name": "stdout",
          "text": [
            "  animal  age  visits\n",
            "a    cat   12       1\n",
            "b   lion   14       2\n",
            "c  tiger    5       3\n",
            "  animal  age  visits\n",
            "a    cat   12       1\n",
            "b   lion   14       2\n",
            "c  tiger    5       3\n",
            "  animal   age  visits\n",
            "a    cat  12.0       1\n",
            "b   lion  14.0       2\n",
            "c  tiger   1.5       3\n"
          ]
        }
      ]
    },
    {
      "cell_type": "code",
      "source": [
        "#string manipulation\n",
        "string=pd.Series(['A','B','C','d'])\n",
        "string.str.lower()\n",
        "string.str.upper()\n"
      ],
      "metadata": {
        "colab": {
          "base_uri": "https://localhost:8080/"
        },
        "id": "Z9M2HEnIEYO7",
        "outputId": "d42b7a9a-4871-430b-aef3-dc0c6774d611"
      },
      "execution_count": 23,
      "outputs": [
        {
          "output_type": "execute_result",
          "data": {
            "text/plain": [
              "0    A\n",
              "1    B\n",
              "2    C\n",
              "3    D\n",
              "dtype: object"
            ]
          },
          "metadata": {},
          "execution_count": 23
        }
      ]
    },
    {
      "cell_type": "code",
      "source": [
        "#Operations for Datframe missing values\n",
        "df4=df3.copy()\n",
        "print(df4)\n",
        "\n",
        "#fill the missing value-If there is a missing value in the array then this will fill that with the value given in the bracket\n",
        "df4.fillna(4)\n",
        "\n",
        "#drop a missing data\n",
        "df5=df4.copy()\n",
        "print(df5)\n",
        "df6=df5.dropna(how='any')\n",
        "print(df6)"
      ],
      "metadata": {
        "colab": {
          "base_uri": "https://localhost:8080/"
        },
        "id": "dR2WfenlE8sd",
        "outputId": "f883917f-b4de-42f8-e49d-4ad0a06450c6"
      },
      "execution_count": 29,
      "outputs": [
        {
          "output_type": "stream",
          "name": "stdout",
          "text": [
            "  animal   age  visits\n",
            "a    cat  12.0       1\n",
            "b   lion  14.0       2\n",
            "c  tiger   1.5       3\n",
            "  animal   age  visits\n",
            "a    cat  12.0       1\n",
            "b   lion  14.0       2\n",
            "c  tiger   1.5       3\n",
            "  animal   age  visits\n",
            "a    cat  12.0       1\n",
            "b   lion  14.0       2\n",
            "c  tiger   1.5       3\n"
          ]
        }
      ]
    },
    {
      "cell_type": "code",
      "source": [
        "#Dataframe file operations\n",
        "df3.to_csv('animal.csv')\n",
        "#read a csv file\n",
        "df_animal=pd.read_csv('animal.csv')\n",
        "df_animal.head(2)\n",
        "\n",
        "#to excel\n",
        "df3.to_excel('animal.xlsx', sheet_name='Sheet1')\n",
        "df_animal2=pd.read_excel('animal.xlsx','Sheet1',index_col=None,na_values=['NA'])\n",
        "print(df_animal)\n"
      ],
      "metadata": {
        "colab": {
          "base_uri": "https://localhost:8080/"
        },
        "id": "n97PEIoiGm7K",
        "outputId": "76940563-32c8-4811-b6d5-9796a67fa40c"
      },
      "execution_count": 33,
      "outputs": [
        {
          "output_type": "stream",
          "name": "stdout",
          "text": [
            "  Unnamed: 0 animal   age  visits\n",
            "0          a    cat  12.0       1\n",
            "1          b   lion  14.0       2\n",
            "2          c  tiger   1.5       3\n"
          ]
        }
      ]
    },
    {
      "cell_type": "code",
      "source": [
        "#Visualisation in Pandas\n",
        "#only for Collab otherwise in IDE no need to write this\n",
        "import numpy as np\n",
        "%matplotlib inline \n",
        "\n",
        "ts=pd.Series(np.random.randn(50),index=pd.date_range('today',periods=50))\n",
        "ts=ts.cumsum()\n",
        "ts.plot()\n",
        "\n",
        "#Visualisation in Pandas using Dataframe\n",
        "\n",
        "df=pd.DataFrame(np.random.randn(50,4),index=ts.index,columns=['A','B','C','D'])\n",
        "df=df.cumsum()\n",
        "df.plot()\n"
      ],
      "metadata": {
        "colab": {
          "base_uri": "https://localhost:8080/",
          "height": 547
        },
        "id": "NfzeoYgxIiDM",
        "outputId": "a642f20a-892c-40b8-d5af-073375e64bef"
      },
      "execution_count": 40,
      "outputs": [
        {
          "output_type": "execute_result",
          "data": {
            "text/plain": [
              "<matplotlib.axes._subplots.AxesSubplot at 0x7fbe42d38820>"
            ]
          },
          "metadata": {},
          "execution_count": 40
        },
        {
          "output_type": "display_data",
          "data": {
            "text/plain": [
              "<Figure size 432x288 with 1 Axes>"
            ],
            "image/png": "[encoded data removed]"
          },
          "metadata": {
            "needs_background": "light"
          }
        },
        {
          "output_type": "display_data",
          "data": {
            "text/plain": [
              "<Figure size 432x288 with 1 Axes>"
            ],
            "image/png": "[encoded data removed]"
          },
          "metadata": {
            "needs_background": "light"
          }
        }
      ]
    },
    {
      "cell_type": "code",
      "source": [
        "#remove duplicates\n",
        "df=pd.DataFrame({'A':[1,2,3,4,4,5,5,6,7]})\n",
        "df.loc[df['A'].shift() != df['A']]"
      ],
      "metadata": {
        "colab": {
          "base_uri": "https://localhost:8080/",
          "height": 269
        },
        "id": "uBeeQYaUJ1V7",
        "outputId": "133244b3-c0f2-4c47-a96e-4b0a7ecf9d8d"
      },
      "execution_count": 44,
      "outputs": [
        {
          "output_type": "execute_result",
          "data": {
            "text/plain": [
              "   A\n",
              "0  1\n",
              "1  2\n",
              "2  3\n",
              "3  4\n",
              "5  5\n",
              "7  6\n",
              "8  7"
            ],
            "text/html": [
              "\n",
              "  <div id=\"df-94f64ad2-644b-4b1a-bb34-b3c28b167be2\">\n",
              "    <div class=\"colab-df-container\">\n",
              "      <div>\n",
              "<style scoped>\n",
              "    .dataframe tbody tr th:only-of-type {\n",
              "        vertical-align: middle;\n",
              "    }\n",
              "\n",
              "    .dataframe tbody tr th {\n",
              "        vertical-align: top;\n",
              "    }\n",
              "\n",
              "    .dataframe thead th {\n",
              "        text-align: right;\n",
              "    }\n",
              "</style>\n",
              "<table border=\"1\" class=\"dataframe\">\n",
              "  <thead>\n",
              "    <tr style=\"text-align: right;\">\n",
              "      <th></th>\n",
              "      <th>A</th>\n",
              "    </tr>\n",
              "  </thead>\n",
              "  <tbody>\n",
              "    <tr>\n",
              "      <th>0</th>\n",
              "      <td>1</td>\n",
              "    </tr>\n",
              "    <tr>\n",
              "      <th>1</th>\n",
              "      <td>2</td>\n",
              "    </tr>\n",
              "    <tr>\n",
              "      <th>2</th>\n",
              "      <td>3</td>\n",
              "    </tr>\n",
              "    <tr>\n",
              "      <th>3</th>\n",
              "      <td>4</td>\n",
              "    </tr>\n",
              "    <tr>\n",
              "      <th>5</th>\n",
              "      <td>5</td>\n",
              "    </tr>\n",
              "    <tr>\n",
              "      <th>7</th>\n",
              "      <td>6</td>\n",
              "    </tr>\n",
              "    <tr>\n",
              "      <th>8</th>\n",
              "      <td>7</td>\n",
              "    </tr>\n",
              "  </tbody>\n",
              "</table>\n",
              "</div>\n",
              "      <button class=\"colab-df-convert\" onclick=\"convertToInteractive('df-94f64ad2-644b-4b1a-bb34-b3c28b167be2')\"\n",
              "              title=\"Convert this dataframe to an interactive table.\"\n",
              "              style=\"display:none;\">\n",
              "        \n",
              "  <svg xmlns=\"http://www.w3.org/2000/svg\" height=\"24px\"viewBox=\"0 0 24 24\"\n",
              "       width=\"24px\">\n",
              "    <path d=\"M0 0h24v24H0V0z\" fill=\"none\"/>\n",
              "    <path d=\"M18.56 5.44l.94 2.06.94-2.06 2.06-.94-2.06-.94-.94-2.06-.94 2.06-2.06.94zm-11 1L8.5 8.5l.94-2.06 2.06-.94-2.06-.94L8.5 2.5l-.94 2.06-2.06.94zm10 10l.94 2.06.94-2.06 2.06-.94-2.06-.94-.94-2.06-.94 2.06-2.06.94z\"/><path d=\"M17.41 7.96l-1.37-1.37c-.4-.4-.92-.59-1.43-.59-.52 0-1.04.2-1.43.59L10.3 9.45l-7.72 7.72c-.78.78-.78 2.05 0 2.83L4 21.41c.39.39.9.59 1.41.59.51 0 1.02-.2 1.41-.59l7.78-7.78 2.81-2.81c.8-.78.8-2.07 0-2.86zM5.41 20L4 18.59l7.72-7.72 1.47 1.35L5.41 20z\"/>\n",
              "  </svg>\n",
              "      </button>\n",
              "      \n",
              "  <style>\n",
              "    .colab-df-container {\n",
              "      display:flex;\n",
              "      flex-wrap:wrap;\n",
              "      gap: 12px;\n",
              "    }\n",
              "\n",
              "    .colab-df-convert {\n",
              "      background-color: #E8F0FE;\n",
              "      border: none;\n",
              "      border-radius: 50%;\n",
              "      cursor: pointer;\n",
              "      display: none;\n",
              "      fill: #1967D2;\n",
              "      height: 32px;\n",
              "      padding: 0 0 0 0;\n",
              "      width: 32px;\n",
              "    }\n",
              "\n",
              "    .colab-df-convert:hover {\n",
              "      background-color: #E2EBFA;\n",
              "      box-shadow: 0px 1px 2px rgba(60, 64, 67, 0.3), 0px 1px 3px 1px rgba(60, 64, 67, 0.15);\n",
              "      fill: #174EA6;\n",
              "    }\n",
              "\n",
              "    [theme=dark] .colab-df-convert {\n",
              "      background-color: #3B4455;\n",
              "      fill: #D2E3FC;\n",
              "    }\n",
              "\n",
              "    [theme=dark] .colab-df-convert:hover {\n",
              "      background-color: #434B5C;\n",
              "      box-shadow: 0px 1px 3px 1px rgba(0, 0, 0, 0.15);\n",
              "      filter: drop-shadow(0px 1px 2px rgba(0, 0, 0, 0.3));\n",
              "      fill: #FFFFFF;\n",
              "    }\n",
              "  </style>\n",
              "\n",
              "      <script>\n",
              "        const buttonEl =\n",
              "          document.querySelector('#df-94f64ad2-644b-4b1a-bb34-b3c28b167be2 button.colab-df-convert');\n",
              "        buttonEl.style.display =\n",
              "          google.colab.kernel.accessAllowed ? 'block' : 'none';\n",
              "\n",
              "        async function convertToInteractive(key) {\n",
              "          const element = document.querySelector('#df-94f64ad2-644b-4b1a-bb34-b3c28b167be2');\n",
              "          const dataTable =\n",
              "            await google.colab.kernel.invokeFunction('convertToInteractive',\n",
              "                                                     [key], {});\n",
              "          if (!dataTable) return;\n",
              "\n",
              "          const docLinkHtml = 'Like what you see? Visit the ' +\n",
              "            '<a target=\"_blank\" href=https://colab.research.google.com/notebooks/data_table.ipynb>data table notebook</a>'\n",
              "            + ' to learn more about interactive tables.';\n",
              "          element.innerHTML = '';\n",
              "          dataTable['output_type'] = 'display_data';\n",
              "          await google.colab.output.renderOutput(dataTable, element);\n",
              "          const docLink = document.createElement('div');\n",
              "          docLink.innerHTML = docLinkHtml;\n",
              "          element.appendChild(docLink);\n",
              "        }\n",
              "      </script>\n",
              "    </div>\n",
              "  </div>\n",
              "  "
            ]
          },
          "metadata": {},
          "execution_count": 44
        }
      ]
    }
  ]
}