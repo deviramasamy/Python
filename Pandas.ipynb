{
  "nbformat": 4,
  "nbformat_minor": 0,
  "metadata": {
    "colab": {
      "provenance": [],
      "authorship_tag": "ABX9TyOKaRxLMlalwPqHioJODIyN",
      "include_colab_link": true
    },
    "kernelspec": {
      "name": "python3",
      "display_name": "Python 3"
    },
    "language_info": {
      "name": "python"
    }
  },
  "cells": [
    {
      "cell_type": "markdown",
      "metadata": {
        "id": "view-in-github",
        "colab_type": "text"
      },
      "source": [
        "<a href=\"https://colab.research.google.com/github/deviramasamy/Python/blob/main/Pandas.ipynb\" target=\"_parent\"><img src=\"https://colab.research.google.com/assets/colab-badge.svg\" alt=\"Open In Colab\"/></a>"
      ]
    },
    {
      "cell_type": "markdown",
      "source": [
        "Pandas:\n",
        "Library in Python which is used for data processing and helps in data analysis and cleaning. Provides functions and methods to efficiently manipulate large datasets.Python Pandas can be used on any type of data.\n",
        "\n",
        "The data structure in pandsas are in series- 1 dimentional array and data frame-2 dimentional array.\n",
        "\n",
        "Series are 1 dimentional array with labels and can contain any data type.It will have index label and column label.\n",
        "Dataframe is 2 dimentional data structure with labels and can use labels to locate data. Row index and column index."
      ],
      "metadata": {
        "id": "prmaxS5RQ9Nl"
      }
    },
    {
      "cell_type": "code",
      "execution_count": null,
      "metadata": {
        "id": "xXhGJBrcQ7eH"
      },
      "outputs": [],
      "source": [
        "import pandas as pd\n",
        "#to check panda version\n",
        "print(pd.__version__)\n",
        "#to read a series\n",
        "data=pd.Series([1,2,3])\n",
        "print(data)\n"
      ]
    },
    {
      "cell_type": "code",
      "source": [
        "#@title Series create,manipulate, query and delete\n",
        "#creating a series from list\n",
        "#series is case sensitive\n",
        "series= [1,2,3,4,5]\n",
        "series1=pd.Series(series)\n",
        "print(series1)\n",
        "\n",
        "#if we want to change the index to start from 1\n",
        "order=[1,2,3,4,5]\n",
        "s1=pd.Series(series, index=order)\n",
        "print(s1)\n",
        "\n",
        "#creating numpy array and assigning an index\n",
        "\n",
        "#import numpy as np\n",
        "#n=np.random.randn(5) #creating random array\n",
        "#index=['a''b','c','d','e']\n",
        "#s2= pd.Series(n, index=index)\n",
        "#print(s2)\n",
        "\n",
        "#create series from dic\n",
        "\n",
        "dic={'a':1,'b':2,'c':3}\n",
        "s3=pd.Series(dic)\n",
        "print(s3)\n",
        "\n",
        "#modify the series of index\n",
        "print(s1)\n",
        "s1.index = ['a','b','c','d','e']\n",
        "print(s1)\n",
        "\n"
      ],
      "metadata": {
        "id": "YOKE0M7OpcZJ"
      },
      "execution_count": null,
      "outputs": []
    },
    {
      "cell_type": "code",
      "source": [
        "#slicing\n",
        "sli=s1[:3]\n",
        "print(sli)\n",
        "\n",
        "sli=s1[:-1]\n",
        "print(sli)\n",
        "\n",
        "sli=s1[3:]\n",
        "print(sli)\n",
        "\n",
        "#append,drop\n",
        "s4=[6,7,8,9,10]\n",
        "s5=pd.Series(s4, index=order)\n",
        "print(s5)\n",
        "s6=s1.append(s5)\n",
        "print(s6)\n",
        "\n",
        "print(s5.drop(5))"
      ],
      "metadata": {
        "id": "BUGObQF_2xX-"
      },
      "execution_count": null,
      "outputs": []
    },
    {
      "cell_type": "code",
      "source": [
        "#@title Series Operations\n",
        "#create 2 arrays\n",
        "arr1=[1,2,3,4,5,6,7]\n",
        "arr2=[6,7,8,9,10,5]\n",
        "s7=pd.Series(arr2)\n",
        "print(s7)\n",
        "s8=pd.Series(arr1)\n",
        "print(s8)\n",
        "print(s7.add(s8))\n",
        "#sub\n",
        "#mul\n",
        "#div"
      ],
      "metadata": {
        "colab": {
          "base_uri": "https://localhost:8080/"
        },
        "id": "Ya_nVm6R3SoC",
        "outputId": "f4bcfc93-4412-4315-9ca5-679e6ad191c0"
      },
      "execution_count": 53,
      "outputs": [
        {
          "output_type": "stream",
          "name": "stdout",
          "text": [
            "0     6\n",
            "1     7\n",
            "2     8\n",
            "3     9\n",
            "4    10\n",
            "5     5\n",
            "dtype: int64\n",
            "0    1\n",
            "1    2\n",
            "2    3\n",
            "3    4\n",
            "4    5\n",
            "5    6\n",
            "6    7\n",
            "dtype: int64\n",
            "0     7.0\n",
            "1     9.0\n",
            "2    11.0\n",
            "3    13.0\n",
            "4    15.0\n",
            "5    11.0\n",
            "6     NaN\n",
            "dtype: float64\n"
          ]
        }
      ]
    },
    {
      "cell_type": "code",
      "source": [
        "#median,max and min\n",
        "print('max',s7.max())\n",
        "print('min',s7.min())\n",
        "print('median',s7.median())"
      ],
      "metadata": {
        "colab": {
          "base_uri": "https://localhost:8080/"
        },
        "id": "zR6cAjBFEBKq",
        "outputId": "8c3bc92a-a5e3-4ac9-bace-1cbab9d64328"
      },
      "execution_count": 56,
      "outputs": [
        {
          "output_type": "stream",
          "name": "stdout",
          "text": [
            "max 10\n",
            "min 5\n",
            "median 7.5\n"
          ]
        }
      ]
    }
  ]
}