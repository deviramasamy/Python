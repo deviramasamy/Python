{
  "nbformat": 4,
  "nbformat_minor": 0,
  "metadata": {
    "colab": {
      "provenance": [],
      "authorship_tag": "ABX9TyNtD8ERA8FBBPCC3TGWUsQY",
      "include_colab_link": true
    },
    "kernelspec": {
      "name": "python3",
      "display_name": "Python 3"
    },
    "language_info": {
      "name": "python"
    }
  },
  "cells": [
    {
      "cell_type": "markdown",
      "metadata": {
        "id": "view-in-github",
        "colab_type": "text"
      },
      "source": [
        "<a href=\"https://colab.research.google.com/github/deviramasamy/Python/blob/main/Pandas.ipynb\" target=\"_parent\"><img src=\"https://colab.research.google.com/assets/colab-badge.svg\" alt=\"Open In Colab\"/></a>"
      ]
    },
    {
      "cell_type": "markdown",
      "source": [
        "Pandas:\n",
        "Library in Python which is used for data processing and helps in data analysis and cleaning. Provides functions and methods to efficiently manipulate large datasets.Python Pandas can be used on any type of data.\n",
        "\n",
        "The data structure in pandsas are in series- 1 dimentional array and data frame-2 dimentional array.\n",
        "\n",
        "Series are 1 dimentional array with labels and can contain any data type."
      ],
      "metadata": {
        "id": "prmaxS5RQ9Nl"
      }
    },
    {
      "cell_type": "code",
      "execution_count": null,
      "metadata": {
        "colab": {
          "base_uri": "https://localhost:8080/"
        },
        "id": "xXhGJBrcQ7eH",
        "outputId": "fb026479-0ca4-4c0f-f314-04e7b630f7dc"
      },
      "outputs": [
        {
          "output_type": "stream",
          "name": "stdout",
          "text": [
            "0    1\n",
            "1    2\n",
            "2    3\n",
            "dtype: int64\n"
          ]
        }
      ],
      "source": [
        "import pandas as pd\n",
        "data=pd.Series([1,2,3])\n",
        "print(data)"
      ]
    }
  ]
}