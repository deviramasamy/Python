{
  "nbformat": 4,
  "nbformat_minor": 0,
  "metadata": {
    "colab": {
      "provenance": [],
      "authorship_tag": "ABX9TyOjzW2qLA0ksUKCLuygUadM",
      "include_colab_link": true
    },
    "kernelspec": {
      "name": "python3",
      "display_name": "Python 3"
    },
    "language_info": {
      "name": "python"
    }
  },
  "cells": [
    {
      "cell_type": "markdown",
      "metadata": {
        "id": "view-in-github",
        "colab_type": "text"
      },
      "source": [
        "<a href=\"https://colab.research.google.com/github/deviramasamy/Python/blob/main/Pandas.ipynb\" target=\"_parent\"><img src=\"https://colab.research.google.com/assets/colab-badge.svg\" alt=\"Open In Colab\"/></a>"
      ]
    },
    {
      "cell_type": "markdown",
      "source": [
        "Pandas:\n",
        "Library in Python which is used for data processing and helps in data analysis and cleaning. Provides functions and methods to efficiently manipulate large datasets.Python Pandas can be used on any type of data.\n",
        "\n",
        "The data structure in pandsas are in series- 1 dimentional array and data frame-2 dimentional array.\n",
        "\n",
        "Series are 1 dimentional array with labels and can contain any data type.It will have index label and column label.\n",
        "Dataframe is 2 dimentional data structure with labels and can use labels to locate data. Row index and column index.\n",
        "\n",
        "In the coding Series and DataFrame are capitalised"
      ],
      "metadata": {
        "id": "prmaxS5RQ9Nl"
      }
    },
    {
      "cell_type": "code",
      "execution_count": 67,
      "metadata": {
        "colab": {
          "base_uri": "https://localhost:8080/"
        },
        "id": "xXhGJBrcQ7eH",
        "outputId": "21f8cbb3-5baf-4ac2-e716-86fbb6be292c"
      },
      "outputs": [
        {
          "output_type": "stream",
          "name": "stdout",
          "text": [
            "1.3.5\n",
            "0    1\n",
            "1    2\n",
            "2    3\n",
            "dtype: int64\n"
          ]
        }
      ],
      "source": [
        "import pandas as pd\n",
        "#to check panda version\n",
        "print(pd.__version__)\n",
        "#to read a series\n",
        "data=pd.Series([1,2,3])\n",
        "print(data)\n"
      ]
    },
    {
      "cell_type": "code",
      "source": [
        "#@title Series create,manipulate, query and delete\n",
        "#creating a series from list\n",
        "#series is case sensitive\n",
        "series= [1,2,3,4,5]\n",
        "series1=pd.Series(series)\n",
        "print(series1)\n",
        "\n",
        "#if we want to change the index to start from 1\n",
        "order=[1,2,3,4,5]\n",
        "s1=pd.Series(series, index=order)\n",
        "print(s1)\n",
        "\n",
        "#creating numpy array and assigning an index\n",
        "\n",
        "#import numpy as np\n",
        "#n=np.random.randn(5) #creating random array\n",
        "#index=['a''b','c','d','e']\n",
        "#s2= pd.Series(n, index=index)\n",
        "#print(s2)\n",
        "\n",
        "#create series from dic\n",
        "\n",
        "dic={'a':1,'b':2,'c':3}\n",
        "s3=pd.Series(dic)\n",
        "print(s3)\n",
        "\n",
        "#modify the series of index\n",
        "print(s1)\n",
        "s1.index = ['a','b','c','d','e']\n",
        "print(s1)\n",
        "\n"
      ],
      "metadata": {
        "colab": {
          "base_uri": "https://localhost:8080/"
        },
        "id": "YOKE0M7OpcZJ",
        "outputId": "89d303b0-ddef-4529-978f-1a09ad2536b1"
      },
      "execution_count": 68,
      "outputs": [
        {
          "output_type": "stream",
          "name": "stdout",
          "text": [
            "0    1\n",
            "1    2\n",
            "2    3\n",
            "3    4\n",
            "4    5\n",
            "dtype: int64\n",
            "1    1\n",
            "2    2\n",
            "3    3\n",
            "4    4\n",
            "5    5\n",
            "dtype: int64\n",
            "a    1\n",
            "b    2\n",
            "c    3\n",
            "dtype: int64\n",
            "1    1\n",
            "2    2\n",
            "3    3\n",
            "4    4\n",
            "5    5\n",
            "dtype: int64\n",
            "a    1\n",
            "b    2\n",
            "c    3\n",
            "d    4\n",
            "e    5\n",
            "dtype: int64\n"
          ]
        }
      ]
    },
    {
      "cell_type": "code",
      "source": [
        "#slicing\n",
        "sli=s1[:3]\n",
        "print(sli)\n",
        "\n",
        "sli=s1[:-1]\n",
        "print(sli)\n",
        "\n",
        "sli=s1[3:]\n",
        "print(sli)\n",
        "\n",
        "#append,drop\n",
        "s4=[6,7,8,9,10]\n",
        "s5=pd.Series(s4, index=order)\n",
        "print(s5)\n",
        "s6=s1.append(s5)\n",
        "print(s6)\n",
        "\n",
        "print(s5.drop(5))"
      ],
      "metadata": {
        "id": "BUGObQF_2xX-"
      },
      "execution_count": null,
      "outputs": []
    },
    {
      "cell_type": "code",
      "source": [
        "#@title Series Operations\n",
        "#create 2 arrays\n",
        "arr1=[1,2,3,4,5,6,7]\n",
        "arr2=[6,7,8,9,10,5]\n",
        "s7=pd.Series(arr2)\n",
        "print(s7)\n",
        "s8=pd.Series(arr1)\n",
        "print(s8)\n",
        "print(s7.add(s8))\n",
        "#sub\n",
        "#mul\n",
        "#div"
      ],
      "metadata": {
        "colab": {
          "base_uri": "https://localhost:8080/"
        },
        "id": "Ya_nVm6R3SoC",
        "outputId": "f4bcfc93-4412-4315-9ca5-679e6ad191c0"
      },
      "execution_count": 53,
      "outputs": [
        {
          "output_type": "stream",
          "name": "stdout",
          "text": [
            "0     6\n",
            "1     7\n",
            "2     8\n",
            "3     9\n",
            "4    10\n",
            "5     5\n",
            "dtype: int64\n",
            "0    1\n",
            "1    2\n",
            "2    3\n",
            "3    4\n",
            "4    5\n",
            "5    6\n",
            "6    7\n",
            "dtype: int64\n",
            "0     7.0\n",
            "1     9.0\n",
            "2    11.0\n",
            "3    13.0\n",
            "4    15.0\n",
            "5    11.0\n",
            "6     NaN\n",
            "dtype: float64\n"
          ]
        }
      ]
    },
    {
      "cell_type": "code",
      "source": [
        "#median,max and min\n",
        "print('max',s7.max())\n",
        "print('min',s7.min())\n",
        "print('median',s7.median())"
      ],
      "metadata": {
        "colab": {
          "base_uri": "https://localhost:8080/"
        },
        "id": "zR6cAjBFEBKq",
        "outputId": "a17d7faf-73b8-4f17-d88f-2ae32d8759d9"
      },
      "execution_count": 57,
      "outputs": [
        {
          "output_type": "stream",
          "name": "stdout",
          "text": [
            "max 10\n",
            "min 5\n",
            "median 7.5\n"
          ]
        }
      ]
    },
    {
      "cell_type": "code",
      "source": [
        "#@title Create Dataframe\n",
        "#define time sequence as Index\n",
        "import pandas as pd\n",
        "import numpy as np\n",
        "\n",
        "dates=pd.date_range('today',periods=6)\n",
        "\n",
        "#create numpy array and use dataframe\n",
        "num_arr1=np.random.randn(6,4)\n",
        "columns=['A','B','C','D']\n",
        "df1= pd.DataFrame(num_arr1, index=dates, columns=columns)\n",
        "print(df1) \n",
        "\n",
        "#create dataframe with dic array\n",
        "\n",
        "data={'animal':['cat','lion','tiger'],\n",
        "      'age':[12,14,5],\n",
        "      'visits':[1,2,3]\n",
        "      }\n",
        "labels = ['a','b','c']      \n",
        "\n",
        "df2=pd.DataFrame(data, index=labels)\n",
        "print(df2)\n",
        "\n",
        "##to find datatype\n",
        "print(df2.dtypes)\n",
        "\n",
        "print(df2.head(2))\n",
        "\n",
        "print(df2.tail(2))\n",
        "\n",
        "print(df2.index)\n",
        "print(df2.columns)\n",
        "\n",
        "#convert to numpy array - values and index don't have brackets at the end as they both are objects\n",
        "print(df2.values)\n",
        "\n"
      ],
      "metadata": {
        "colab": {
          "base_uri": "https://localhost:8080/"
        },
        "id": "G87D1EffHACM",
        "outputId": "8906f1e7-a4b3-42bb-a37c-ab2f73c949a7"
      },
      "execution_count": 82,
      "outputs": [
        {
          "output_type": "stream",
          "name": "stdout",
          "text": [
            "                                   A         B         C         D\n",
            "2023-02-02 12:53:33.364305  0.162182  0.251565  0.614543 -1.312994\n",
            "2023-02-03 12:53:33.364305  0.875891 -0.084936  0.750046 -1.995780\n",
            "2023-02-04 12:53:33.364305  2.015129 -0.209278 -0.201572 -0.667349\n",
            "2023-02-05 12:53:33.364305  0.364630 -0.259009  0.397785 -0.411721\n",
            "2023-02-06 12:53:33.364305 -0.328638  0.612481  0.453236  0.303464\n",
            "2023-02-07 12:53:33.364305 -0.626934  0.434717 -1.643043  0.004172\n",
            "  animal  age  visits\n",
            "a    cat   12       1\n",
            "b   lion   14       2\n",
            "c  tiger    5       3\n",
            "animal    object\n",
            "age        int64\n",
            "visits     int64\n",
            "dtype: object\n",
            "  animal  age  visits\n",
            "a    cat   12       1\n",
            "b   lion   14       2\n",
            "  animal  age  visits\n",
            "b   lion   14       2\n",
            "c  tiger    5       3\n",
            "Index(['a', 'b', 'c'], dtype='object')\n",
            "Index(['animal', 'age', 'visits'], dtype='object')\n",
            "[['cat' 12 1]\n",
            " ['lion' 14 2]\n",
            " ['tiger' 5 3]]\n"
          ]
        }
      ]
    },
    {
      "cell_type": "code",
      "source": [
        "#Describe the data-describes everything like median,max,min\n",
        "print(df2.describe())"
      ],
      "metadata": {
        "colab": {
          "base_uri": "https://localhost:8080/"
        },
        "id": "7oFXDvwOMIoX",
        "outputId": "0ba9a118-92da-4d76-81f9-8312d98ae609"
      },
      "execution_count": 84,
      "outputs": [
        {
          "output_type": "stream",
          "name": "stdout",
          "text": [
            "             age  visits\n",
            "count   3.000000     3.0\n",
            "mean   10.333333     2.0\n",
            "std     4.725816     1.0\n",
            "min     5.000000     1.0\n",
            "25%     8.500000     1.5\n",
            "50%    12.000000     2.0\n",
            "75%    13.000000     2.5\n",
            "max    14.000000     3.0\n"
          ]
        }
      ]
    },
    {
      "cell_type": "code",
      "source": [
        "#Manipulation of data\n",
        "#transposing-flipping column as index and index as columns\n",
        "print(df2.T)\n",
        "\n",
        "#sorting the data\n",
        "print(df2.sort_values(by='age'))\n",
        "print(df2.sort_values(by='visits'))\n",
        "\n",
        "#slicing dataframe\n",
        "print(df2[1:3])\n",
        "print(df2.sort_values(by='age')[1:3])"
      ],
      "metadata": {
        "colab": {
          "base_uri": "https://localhost:8080/"
        },
        "id": "7ych4pwDMUw8",
        "outputId": "fdcc8a92-9e56-47d7-ff41-d4abfccab343"
      },
      "execution_count": 90,
      "outputs": [
        {
          "output_type": "stream",
          "name": "stdout",
          "text": [
            "          a     b      c\n",
            "animal  cat  lion  tiger\n",
            "age      12    14      5\n",
            "visits    1     2      3\n",
            "  animal  age  visits\n",
            "c  tiger    5       3\n",
            "a    cat   12       1\n",
            "b   lion   14       2\n",
            "  animal  age  visits\n",
            "a    cat   12       1\n",
            "b   lion   14       2\n",
            "c  tiger    5       3\n",
            "  animal  age  visits\n",
            "b   lion   14       2\n",
            "c  tiger    5       3\n",
            "  animal  age  visits\n",
            "a    cat   12       1\n",
            "b   lion   14       2\n"
          ]
        }
      ]
    }
  ]
}