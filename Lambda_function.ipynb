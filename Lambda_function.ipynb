{
  "nbformat": 4,
  "nbformat_minor": 0,
  "metadata": {
    "colab": {
      "provenance": [],
      "authorship_tag": "ABX9TyPTVqiDvCzwse4ZRnU5+QPL",
      "include_colab_link": true
    },
    "kernelspec": {
      "name": "python3",
      "display_name": "Python 3"
    },
    "language_info": {
      "name": "python"
    }
  },
  "cells": [
    {
      "cell_type": "markdown",
      "metadata": {
        "id": "view-in-github",
        "colab_type": "text"
      },
      "source": [
        "<a href=\"https://colab.research.google.com/github/deviramasamy/Python/blob/main/Lambda_function.ipynb\" target=\"_parent\"><img src=\"https://colab.research.google.com/assets/colab-badge.svg\" alt=\"Open In Colab\"/></a>"
      ]
    },
    {
      "cell_type": "markdown",
      "source": [
        "Lambda function: keyword is lambda and it is an anonymous function without a name."
      ],
      "metadata": {
        "id": "qFM8p9PQD4f-"
      }
    },
    {
      "cell_type": "code",
      "execution_count": 3,
      "metadata": {
        "colab": {
          "base_uri": "https://localhost:8080/",
          "height": 36
        },
        "id": "cjC0_dE1D3Cx",
        "outputId": "7b235b13-8368-49a6-b596-f9079e988451"
      },
      "outputs": [
        {
          "output_type": "execute_result",
          "data": {
            "text/plain": [
              "'even'"
            ],
            "application/vnd.google.colaboratory.intrinsic+json": {
              "type": "string"
            }
          },
          "metadata": {},
          "execution_count": 3
        }
      ],
      "source": [
        "#to find odd or even number\n",
        "(lambda x : (x % 2 and 'odd' or 'even'))(30)"
      ]
    },
    {
      "cell_type": "code",
      "source": [
        "#checks if a string is a substring of a given string\n",
        "sub_string = lambda string : string in \"Welcome to ITC company ltd\"\n",
        "print(sub_string('python'))\n",
        "\n",
        "sub_string = lambda string : string in \"Welcome to ITC company ltd\"\n",
        "print(sub_string('welcome'))\n",
        "\n",
        "sub_string = lambda string : string in \"Welcome to ITC company ltd\"\n",
        "print(sub_string('Welcome'))"
      ],
      "metadata": {
        "colab": {
          "base_uri": "https://localhost:8080/"
        },
        "id": "W5lTLxwVFhY8",
        "outputId": "914acafd-bb1d-4ef7-9507-75cb5dbe91c4"
      },
      "execution_count": 6,
      "outputs": [
        {
          "output_type": "stream",
          "name": "stdout",
          "text": [
            "False\n",
            "False\n",
            "True\n"
          ]
        }
      ]
    }
  ]
}