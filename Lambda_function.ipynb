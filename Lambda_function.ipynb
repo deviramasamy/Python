{
  "nbformat": 4,
  "nbformat_minor": 0,
  "metadata": {
    "colab": {
      "provenance": [],
      "authorship_tag": "ABX9TyPHmtrvNL2zir5Iurmfc0wl",
      "include_colab_link": true
    },
    "kernelspec": {
      "name": "python3",
      "display_name": "Python 3"
    },
    "language_info": {
      "name": "python"
    }
  },
  "cells": [
    {
      "cell_type": "markdown",
      "metadata": {
        "id": "view-in-github",
        "colab_type": "text"
      },
      "source": [
        "<a href=\"https://colab.research.google.com/github/deviramasamy/Python/blob/main/Lambda_function.ipynb\" target=\"_parent\"><img src=\"https://colab.research.google.com/assets/colab-badge.svg\" alt=\"Open In Colab\"/></a>"
      ]
    },
    {
      "cell_type": "markdown",
      "source": [
        "Lambda function: keyword is lambda and it is an anonymous function without a name.\n",
        "Lambda function can have any number of arguments but only 1 expression.\n",
        "\n",
        "Syntax:\n",
        "\n",
        "lambda arguments : expression"
      ],
      "metadata": {
        "id": "qFM8p9PQD4f-"
      }
    },
    {
      "cell_type": "code",
      "execution_count": 3,
      "metadata": {
        "colab": {
          "base_uri": "https://localhost:8080/",
          "height": 36
        },
        "id": "cjC0_dE1D3Cx",
        "outputId": "7b235b13-8368-49a6-b596-f9079e988451"
      },
      "outputs": [
        {
          "output_type": "execute_result",
          "data": {
            "text/plain": [
              "'even'"
            ],
            "application/vnd.google.colaboratory.intrinsic+json": {
              "type": "string"
            }
          },
          "metadata": {},
          "execution_count": 3
        }
      ],
      "source": [
        "#to find odd or even number\n",
        "(lambda x : (x % 2 and 'odd' or 'even'))(30)"
      ]
    },
    {
      "cell_type": "code",
      "source": [
        "#checks if a string is a substring of a given string\n",
        "sub_string = lambda string : string in \"Welcome to ITC company ltd\"\n",
        "print(sub_string('python'))\n",
        "\n",
        "sub_string = lambda string : string in \"Welcome to ITC company ltd\"\n",
        "print(sub_string('welcome'))\n",
        "\n",
        "sub_string = lambda string : string in \"Welcome to ITC company ltd\"\n",
        "print(sub_string('Welcome'))"
      ],
      "metadata": {
        "colab": {
          "base_uri": "https://localhost:8080/"
        },
        "id": "W5lTLxwVFhY8",
        "outputId": "914acafd-bb1d-4ef7-9507-75cb5dbe91c4"
      },
      "execution_count": 6,
      "outputs": [
        {
          "output_type": "stream",
          "name": "stdout",
          "text": [
            "False\n",
            "False\n",
            "True\n"
          ]
        }
      ]
    },
    {
      "cell_type": "code",
      "source": [
        "#lambda function using filter function\n",
        "#going to filter numbers using a specific condition\n",
        "num = [10,20,45,65,54,70]\n",
        "greater = list(filter(lambda num : num >30, num))\n",
        "print(greater)\n",
        "\n",
        "#filter list of numbers divisible by 4\n",
        "n = [4,8,12,15,54,46]\n",
        "divide = list(filter(lambda n : (n%4 == 0),n))\n",
        "print(divide)\n",
        "\n"
      ],
      "metadata": {
        "colab": {
          "base_uri": "https://localhost:8080/"
        },
        "id": "wRmwPpJqKKEu",
        "outputId": "4000f252-126e-4aaf-e310-a8dedb8e2006"
      },
      "execution_count": 11,
      "outputs": [
        {
          "output_type": "stream",
          "name": "stdout",
          "text": [
            "[45, 65, 54, 70]\n",
            "[4, 8, 12]\n"
          ]
        }
      ]
    },
    {
      "cell_type": "code",
      "source": [
        "#map function with lambda function-map function accepts 2 arguements, function and a list.\n",
        "#It takes that function and applies it to every element of the list and returns the modified list.\n",
        "list1 = [10,20,30,40,70,80]\n",
        "double_number = list(map(lambda x : x*2, list1))\n",
        "print(double_number)\n",
        "\n",
        "#power of a number raised to 3\n",
        "\n",
        "list3 = [2,3,5,6,7,8]\n",
        "cube = map(lambda x : pow (x,3), list3)\n",
        "print(list(cube))\n",
        "\n",
        "list3 = [2,3,5,6,7,8]\n",
        "cube = list(map(lambda x : pow (x,3), list3))\n",
        "print(cube)"
      ],
      "metadata": {
        "colab": {
          "base_uri": "https://localhost:8080/"
        },
        "id": "lYAIahFtL35p",
        "outputId": "0d8faafe-fc5f-43ab-d44c-bdf5d7db1df8"
      },
      "execution_count": 16,
      "outputs": [
        {
          "output_type": "stream",
          "name": "stdout",
          "text": [
            "[20, 40, 60, 80, 140, 160]\n",
            "[8, 27, 125, 216, 343, 512]\n",
            "[8, 27, 125, 216, 343, 512]\n"
          ]
        }
      ]
    },
    {
      "cell_type": "code",
      "source": [
        "#use of reduced function along with lambda function-part of func tool modules. we need to import frunc tools modules\n",
        "#it applies rolling calculation to all items in the list. we can use to calculate total sum or multiply all the numbers together.\n",
        "\n",
        "from functools import reduce\n",
        "list2 = [2,3,4,5,6,7]\n",
        "sum = reduce(lambda x,y : x+y,list2)\n",
        "print(sum)\n",
        "\n",
        "list2 = [2,3,4,5,6,7]\n",
        "product = reduce(lambda x,y : x*y,list2)\n",
        "print(product)\n",
        "\n",
        "#lambda function within a user defined function\n",
        "\n",
        "def quad(a,b,c):\n",
        "    return lambda x : a*x**2+b*x+c\n",
        "f = quad(2,3,5)  \n",
        "f(2)"
      ],
      "metadata": {
        "colab": {
          "base_uri": "https://localhost:8080/"
        },
        "id": "aK7EBwG5ZvIS",
        "outputId": "3eaa4beb-4f8d-4e0e-b332-0833998aacbe"
      },
      "execution_count": 24,
      "outputs": [
        {
          "output_type": "stream",
          "name": "stdout",
          "text": [
            "27\n",
            "5040\n"
          ]
        },
        {
          "output_type": "execute_result",
          "data": {
            "text/plain": [
              "19"
            ]
          },
          "metadata": {},
          "execution_count": 24
        }
      ]
    }
  ]
}