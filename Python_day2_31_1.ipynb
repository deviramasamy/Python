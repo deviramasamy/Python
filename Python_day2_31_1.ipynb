{
  "nbformat": 4,
  "nbformat_minor": 0,
  "metadata": {
    "colab": {
      "provenance": [],
      "authorship_tag": "ABX9TyMkWBywXpQ/u+4A2CHEKxp7",
      "include_colab_link": true
    },
    "kernelspec": {
      "name": "python3",
      "display_name": "Python 3"
    },
    "language_info": {
      "name": "python"
    }
  },
  "cells": [
    {
      "cell_type": "markdown",
      "metadata": {
        "id": "view-in-github",
        "colab_type": "text"
      },
      "source": [
        "<a href=\"https://colab.research.google.com/github/deviramasamy/Python/blob/main/Python_day2_31_1.ipynb\" target=\"_parent\"><img src=\"https://colab.research.google.com/assets/colab-badge.svg\" alt=\"Open In Colab\"/></a>"
      ]
    },
    {
      "cell_type": "code",
      "execution_count": null,
      "metadata": {
        "colab": {
          "base_uri": "https://localhost:8080/"
        },
        "id": "G_TMpr1NTOTc",
        "outputId": "063b90d3-55c5-4184-8e7b-327703c13b7b"
      },
      "outputs": [
        {
          "output_type": "stream",
          "name": "stdout",
          "text": [
            "Hello world\n",
            " Hello  all\n"
          ]
        }
      ],
      "source": [
        "print(\"Hello world\")\n",
        "\n",
        "a=\"all\"\n",
        "print(\" Hello \" ,  a)"
      ]
    },
    {
      "cell_type": "code",
      "source": [
        "#print with modulo\n",
        "#\n",
        "name = \"Devi\"\n",
        "comp = \"ITC\"\n",
        "id = 101\n",
        "print(\"%10s %10s %5d\" %(name,comp,id))\n",
        "print(\"%10s %10s %5d\" %('Rupali','ITC1',102))"
      ],
      "metadata": {
        "colab": {
          "base_uri": "https://localhost:8080/"
        },
        "id": "mtXWzej4Ud4t",
        "outputId": "ff7f1bc2-d66a-4677-8774-a5c18382843c"
      },
      "execution_count": 4,
      "outputs": [
        {
          "output_type": "stream",
          "name": "stdout",
          "text": [
            "      Devi        ITC   101\n",
            "    Rupali       ITC1   102\n"
          ]
        }
      ]
    },
    {
      "cell_type": "markdown",
      "source": [
        "#Variables and keywords: \n",
        "##subheading\n",
        "###topic\n",
        "####paragraph/explanation\n",
        "\n"
      ],
      "metadata": {
        "id": "eHIoPilPX9x9"
      }
    },
    {
      "cell_type": "code",
      "source": [
        "#operator\n",
        "#modulus\n",
        "10%3\n",
        "int(10/3)\n",
        "10//3 #floor division\n",
        "2*2\n",
        "2**3 #exponent\n",
        "\n"
      ],
      "metadata": {
        "colab": {
          "base_uri": "https://localhost:8080/"
        },
        "id": "tvQu8sFNXt6b",
        "outputId": "1a858caf-9382-4aad-e177-cae65fb42ca0"
      },
      "execution_count": null,
      "outputs": [
        {
          "output_type": "execute_result",
          "data": {
            "text/plain": [
              "8"
            ]
          },
          "metadata": {},
          "execution_count": 16
        }
      ]
    },
    {
      "cell_type": "code",
      "source": [
        "#id() function - returns the identity of the object\n",
        "a=\"abc\"\n",
        "b=\"rain\"\n",
        "c=5\n",
        "print(id(str(a)))\n",
        "print(id(str(b)))\n",
        "print(id(c))"
      ],
      "metadata": {
        "colab": {
          "base_uri": "https://localhost:8080/"
        },
        "id": "o6eQQXMKZpc2",
        "outputId": "7a9878db-74e0-40c5-976d-9b0cec75afe8"
      },
      "execution_count": null,
      "outputs": [
        {
          "output_type": "stream",
          "name": "stdout",
          "text": [
            "139647660998000\n",
            "139647168354544\n",
            "9793216\n"
          ]
        }
      ]
    },
    {
      "cell_type": "code",
      "source": [
        "#Type interference\n",
        "fname=\"devi\"\n",
        "eid=100\n",
        "print(type(fname))\n",
        "print(type(eid))"
      ],
      "metadata": {
        "colab": {
          "base_uri": "https://localhost:8080/"
        },
        "id": "p_7RzdRZcUU5",
        "outputId": "5d8e45ec-918f-4834-9eb9-d2d24b0ac4e4"
      },
      "execution_count": null,
      "outputs": [
        {
          "output_type": "stream",
          "name": "stdout",
          "text": [
            "<class 'str'>\n",
            "<class 'int'>\n"
          ]
        }
      ]
    },
    {
      "cell_type": "code",
      "source": [
        "#is - similar to equals \n",
        "num1=10\n",
        "num2=20\n",
        "print(num1 is num2)\n",
        "\n",
        "#in operator- will search for key and not the value\n",
        "\n",
        "a= \"hello world\"\n",
        "b={1:'a',2:'b'} #dictionary,1 n2 is a key\n",
        "print('h' in a)\n",
        "print(1 in b)\n",
        "print('a' in b)\n"
      ],
      "metadata": {
        "colab": {
          "base_uri": "https://localhost:8080/"
        },
        "id": "Q6v8nu8DcpDS",
        "outputId": "e558722c-3072-45dd-d9b1-e0e94baff23a"
      },
      "execution_count": null,
      "outputs": [
        {
          "output_type": "stream",
          "name": "stdout",
          "text": [
            "False\n",
            "True\n",
            "True\n",
            "False\n"
          ]
        }
      ]
    },
    {
      "cell_type": "code",
      "source": [
        "#list-Mutable,duplicate values\n",
        "#tuple-Immutable\n",
        "#set-Immutable, unique values\n",
        "#dict-Mutable-keyvalue pair.very efficient to access key\n",
        "\n",
        "input1=[1,2,3,4,5,6,6,3]\n",
        "input1=set(input1)\n",
        "output=[1,2,3,4,5]\n",
        "\n",
        "print(dir(list))\n",
        "\n",
        "set1={1,2,3,4}\n",
        "set1.add(5)\n",
        "set1.add(-2)\n",
        "print(set1)\n",
        "\n"
      ],
      "metadata": {
        "colab": {
          "base_uri": "https://localhost:8080/"
        },
        "id": "2rqy_XSmfpm0",
        "outputId": "ebb06c6b-1d1b-4555-dde8-ca9cc21b33d5"
      },
      "execution_count": null,
      "outputs": [
        {
          "output_type": "stream",
          "name": "stdout",
          "text": [
            "['__add__', '__class__', '__contains__', '__delattr__', '__delitem__', '__dir__', '__doc__', '__eq__', '__format__', '__ge__', '__getattribute__', '__getitem__', '__gt__', '__hash__', '__iadd__', '__imul__', '__init__', '__init_subclass__', '__iter__', '__le__', '__len__', '__lt__', '__mul__', '__ne__', '__new__', '__reduce__', '__reduce_ex__', '__repr__', '__reversed__', '__rmul__', '__setattr__', '__setitem__', '__sizeof__', '__str__', '__subclasshook__', 'append', 'clear', 'copy', 'count', 'extend', 'index', 'insert', 'pop', 'remove', 'reverse', 'sort']\n",
            "{1, 2, 3, 4, 5, -2}\n"
          ]
        }
      ]
    },
    {
      "cell_type": "code",
      "source": [
        "#if statement\n",
        "grade='A'\n",
        "if grade=='A':\n",
        "  print(\"Excellent\")\n",
        "elif grade == 'B':\n",
        "  print(\"very good\")\n",
        "else:\n",
        "  print(\"Bad\")\n",
        "\n",
        "grade=int(input(\"enter the grade\")) #Explicit type cast\n",
        "if grade>90:\n",
        "  print(\"Excellent\")\n",
        "elif grade>80:\n",
        "  print(\"good\")  \n",
        "else:\n",
        "  print(\"Bad\")  "
      ],
      "metadata": {
        "colab": {
          "base_uri": "https://localhost:8080/",
          "height": 269
        },
        "id": "oePxXgoOkHIK",
        "outputId": "778568d8-bb54-484f-fe5a-a9f8a286bc03"
      },
      "execution_count": null,
      "outputs": [
        {
          "name": "stdout",
          "output_type": "stream",
          "text": [
            "Excellent\n",
            "enter the gradeB\n"
          ]
        },
        {
          "output_type": "error",
          "ename": "ValueError",
          "evalue": "ignored",
          "traceback": [
            "\u001b[0;31m---------------------------------------------------------------------------\u001b[0m",
            "\u001b[0;31mValueError\u001b[0m                                Traceback (most recent call last)",
            "\u001b[0;32m<ipython-input-60-4d2fd09c1c78>\u001b[0m in \u001b[0;36m<module>\u001b[0;34m\u001b[0m\n\u001b[1;32m      8\u001b[0m   \u001b[0mprint\u001b[0m\u001b[0;34m(\u001b[0m\u001b[0;34m\"Bad\"\u001b[0m\u001b[0;34m)\u001b[0m\u001b[0;34m\u001b[0m\u001b[0;34m\u001b[0m\u001b[0m\n\u001b[1;32m      9\u001b[0m \u001b[0;34m\u001b[0m\u001b[0m\n\u001b[0;32m---> 10\u001b[0;31m \u001b[0mgrade\u001b[0m\u001b[0;34m=\u001b[0m\u001b[0mint\u001b[0m\u001b[0;34m(\u001b[0m\u001b[0minput\u001b[0m\u001b[0;34m(\u001b[0m\u001b[0;34m\"enter the grade\"\u001b[0m\u001b[0;34m)\u001b[0m\u001b[0;34m)\u001b[0m \u001b[0;31m#Explicit type cast\u001b[0m\u001b[0;34m\u001b[0m\u001b[0;34m\u001b[0m\u001b[0m\n\u001b[0m\u001b[1;32m     11\u001b[0m \u001b[0;32mif\u001b[0m \u001b[0mgrade\u001b[0m\u001b[0;34m>\u001b[0m\u001b[0;36m90\u001b[0m\u001b[0;34m:\u001b[0m\u001b[0;34m\u001b[0m\u001b[0;34m\u001b[0m\u001b[0m\n\u001b[1;32m     12\u001b[0m   \u001b[0mprint\u001b[0m\u001b[0;34m(\u001b[0m\u001b[0;34m\"Excellent\"\u001b[0m\u001b[0;34m)\u001b[0m\u001b[0;34m\u001b[0m\u001b[0;34m\u001b[0m\u001b[0m\n",
            "\u001b[0;31mValueError\u001b[0m: invalid literal for int() with base 10: 'B'"
          ]
        }
      ]
    },
    {
      "cell_type": "code",
      "source": [
        "a=3.5\n",
        "type(a)\n",
        "\n",
        "\n"
      ],
      "metadata": {
        "colab": {
          "base_uri": "https://localhost:8080/"
        },
        "id": "2Hf9kTyoo3t4",
        "outputId": "b49ad715-f8a5-4158-d032-d956fc5413cc"
      },
      "execution_count": null,
      "outputs": [
        {
          "output_type": "execute_result",
          "data": {
            "text/plain": [
              "float"
            ]
          },
          "metadata": {},
          "execution_count": 61
        }
      ]
    },
    {
      "cell_type": "code",
      "source": [
        "#For loop\n",
        "\n",
        "lst=[1,2,3,4,5]\n",
        "count=0\n",
        "for num in lst:\n",
        "  if num % 2 !=0:\n",
        "    count=count+1\n",
        "    print(num)\n",
        "  if count ==2:\n",
        "    break;  \n",
        "\n",
        "\n"
      ],
      "metadata": {
        "colab": {
          "base_uri": "https://localhost:8080/"
        },
        "id": "cpD7wgAysjB4",
        "outputId": "707ede9d-d628-4ebd-fa04-64c95041ed46"
      },
      "execution_count": null,
      "outputs": [
        {
          "output_type": "stream",
          "name": "stdout",
          "text": [
            "1\n",
            "3\n"
          ]
        }
      ]
    },
    {
      "cell_type": "code",
      "source": [
        "#slicing-the part of the item and also indexing-Only 1 letter\n",
        "#start-stop-step\n",
        "sub=\"python\"\n",
        "print(sub[0])\n",
        "print(sub[0:])\n",
        "print(sub[0:3])\n",
        "print(sub[0:5:2])\n",
        "print(sub[:3])\n",
        "print(sub[::-1])#reverse the string\n",
        "\n",
        "list=[1,2,3,4,5]\n",
        "print(list[::-1])\n",
        "print(list.reverse())"
      ],
      "metadata": {
        "colab": {
          "base_uri": "https://localhost:8080/"
        },
        "id": "v1FOxh6Kuctn",
        "outputId": "3b804ee5-7315-4db8-9f7e-70379e34de71"
      },
      "execution_count": null,
      "outputs": [
        {
          "output_type": "stream",
          "name": "stdout",
          "text": [
            "p\n",
            "python\n",
            "pyt\n",
            "pto\n",
            "pyt\n",
            "nohtyp\n",
            "[5, 4, 3, 2, 1]\n",
            "None\n"
          ]
        }
      ]
    }
  ]
}