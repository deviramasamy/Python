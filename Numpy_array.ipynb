{
  "nbformat": 4,
  "nbformat_minor": 0,
  "metadata": {
    "colab": {
      "provenance": [],
      "authorship_tag": "ABX9TyMxh3bwgurUttJOpXK/VRsY",
      "include_colab_link": true
    },
    "kernelspec": {
      "name": "python3",
      "display_name": "Python 3"
    },
    "language_info": {
      "name": "python"
    }
  },
  "cells": [
    {
      "cell_type": "markdown",
      "metadata": {
        "id": "view-in-github",
        "colab_type": "text"
      },
      "source": [
        "<a href=\"https://colab.research.google.com/github/deviramasamy/Python/blob/main/Numpy_array.ipynb\" target=\"_parent\"><img src=\"https://colab.research.google.com/assets/colab-badge.svg\" alt=\"Open In Colab\"/></a>"
      ]
    },
    {
      "cell_type": "markdown",
      "source": [
        "**Numpy array Vs Python List**\n",
        "\n",
        "Why Numpy array:-Numerical Python. Numpy array is widely used object in Numpy Library,which is similar to list. Array is homegeoneous wheareas list is heterogeneous. Every array is a list but not every list is a array.\n",
        "\n",
        "It is used for scientific calculation and it is a library. Basic for other major libraries like pandas.\n",
        "\n",
        "1.   Fast-optimized-Less bytes of memory\n",
        "2.   No type checking when iterating through object.\n",
        "2.   less memory and speed\n",
        "3.   convinient-lot of functionalities\n",
        "\n",
        "uses continuous memory.\n",
        "\n",
        "List: can do insertion, deletion,appending, concatenation etc\n",
        "Numpy-Lot more than list\n",
        "\n",
        "**Applications in NumPy** \n",
        "\n",
        "Matlab replacement\n",
        "plotting\n",
        "backend\n",
        "machine learning\n",
        "\n",
        "\n",
        "\n",
        "Numpy-uses fixed type. eg: a number in a matirx\n",
        "\n",
        "5 requires lot more space in list vecause list stores value as size,reference count,object type and object value whereas NumPy stores only in a memory space of 4 bytes\n",
        "\n",
        "\n",
        "\n",
        "Import numpy as np"
      ],
      "metadata": {
        "id": "Df5vYW6_d4G7"
      }
    },
    {
      "cell_type": "code",
      "execution_count": 2,
      "metadata": {
        "colab": {
          "base_uri": "https://localhost:8080/"
        },
        "id": "bGgrXTgxdzvB",
        "outputId": "14a9bce2-10c2-40ad-e759-38831350f101"
      },
      "outputs": [
        {
          "output_type": "stream",
          "name": "stdout",
          "text": [
            "[1 2 3]\n",
            "[[ 9  8  7]\n",
            " [11  5  6]]\n"
          ]
        }
      ],
      "source": [
        "#printing a numpy array\n",
        "import numpy as np\n",
        "a=np.array([1,2,3],dtype='int16')\n",
        "print(a)\n",
        "#2d array\n",
        "z = np.array([[9,8,7],[11,5,6]])\n",
        "print(z)\n"
      ]
    },
    {
      "cell_type": "code",
      "source": [
        "#get dimension - ndim\n",
        "print(a.ndim)\n",
        "print(z.ndim)\n",
        "#get shape\n",
        "print(a.shape)\n",
        "#get type\n",
        "print(a.dtype)\n",
        "#get itemsize-16 is 2 bytes, 32 is 8 bytes\n",
        "print(a.itemsize)\n",
        "#get totalsize\n",
        "print(a.nbytes)"
      ],
      "metadata": {
        "colab": {
          "base_uri": "https://localhost:8080/"
        },
        "id": "U6o0BwvLDUgY",
        "outputId": "07b8ae06-ddae-40ca-95c3-5b9abffc3013"
      },
      "execution_count": null,
      "outputs": [
        {
          "output_type": "stream",
          "name": "stdout",
          "text": [
            "1\n",
            "2\n",
            "(3,)\n",
            "int16\n",
            "2\n",
            "6\n"
          ]
        }
      ]
    },
    {
      "cell_type": "code",
      "source": [
        "#to find out why numpy array\n",
        "import time\n",
        "import sys\n",
        "b=range(1000)\n",
        "print(sys.getsizeof(5),len(b))\n",
        "print(sys.getsizeof(5)*len(b))\n",
        "\n",
        "#numpy\n",
        "c=np.arange(1000)\n",
        "print(c.size*c.itemsize)\n",
        "\n",
        "#speed\n",
        "size =100000\n",
        "L1=range(size)\n",
        "L2=range(size)\n",
        "a1=np.arange(size)\n",
        "a2=np.arange(size)\n"
      ],
      "metadata": {
        "colab": {
          "base_uri": "https://localhost:8080/"
        },
        "id": "5Guyht2bfbER",
        "outputId": "8139621c-c88d-48bd-e106-6a98afe213a3"
      },
      "execution_count": null,
      "outputs": [
        {
          "output_type": "stream",
          "name": "stdout",
          "text": [
            "28 1000\n",
            "28000\n",
            "8000\n"
          ]
        }
      ]
    },
    {
      "cell_type": "code",
      "source": [
        "#accessing/changing specific elements, rows, columns etc.\n",
        "c = np.array([[1,2,3,4,5,6,7],[8,9,10,11,12,13,14]])\n",
        "print(c)\n",
        "print(c.shape)\n",
        "#get a specific element [r,c]\n",
        "print(c[1,5])  \n",
        "print(c[0,4])\n",
        "#get a specific row\n",
        "print(c[0,:])\n",
        "#get a specific column\n",
        "print(c[:,2])\n",
        "#get a little more fancy [startindex,endindex,stepsize]\n",
        "print(c[1,1:6:3])\n",
        "#to change a value in the list\n",
        "c[1,5] =20\n",
        "print(c)\n"
      ],
      "metadata": {
        "colab": {
          "base_uri": "https://localhost:8080/"
        },
        "id": "zQRbtSCCEucf",
        "outputId": "a7cffc55-a57d-4191-fa0c-90bacd24fd33"
      },
      "execution_count": null,
      "outputs": [
        {
          "output_type": "stream",
          "name": "stdout",
          "text": [
            "[[ 1  2  3  4  5  6  7]\n",
            " [ 8  9 10 11 12 13 14]]\n",
            "(2, 7)\n",
            "13\n",
            "5\n",
            "[1 2 3 4 5 6 7]\n",
            "[ 3 10]\n",
            "[ 9 12]\n",
            "[[ 1  2  3  4  5  6  7]\n",
            " [ 8  9 10 11 12 20 14]]\n"
          ]
        }
      ]
    },
    {
      "cell_type": "code",
      "source": [
        "#3d example\n",
        "d=np.array([[[1,2],[3,4],[5,6],[7,8]]])\n",
        "print(d)\n",
        "#specific element-work outside in\n",
        "print(d[0,1,1])\n"
      ],
      "metadata": {
        "colab": {
          "base_uri": "https://localhost:8080/"
        },
        "id": "rh-4dN0yJ6KL",
        "outputId": "61f5f4cf-7d31-4752-f8aa-6dc74a1ea252"
      },
      "execution_count": null,
      "outputs": [
        {
          "output_type": "stream",
          "name": "stdout",
          "text": [
            "[[[1 2]\n",
            "  [3 4]\n",
            "  [5 6]\n",
            "  [7 8]]]\n",
            "4\n"
          ]
        }
      ]
    },
    {
      "cell_type": "code",
      "source": [
        "#Initialising different types of array\n",
        "#all 0's matrix\n",
        "np.zeros((2,3,3,2))\n",
        "#all 1's matrix\n",
        "np.ones(())\n",
        "#any other number (full_like)\n",
        "np.full_like(a,4)\n",
        "#random decimal\n",
        "np.random.rand(4,2,3)\n",
        "#random integer\n",
        "np.random.randint(4,7,size =(3,3))\n"
      ],
      "metadata": {
        "colab": {
          "base_uri": "https://localhost:8080/"
        },
        "id": "HLef1cq_KlpH",
        "outputId": "389b142a-a51e-4a7e-bf0c-38b8514983f3"
      },
      "execution_count": null,
      "outputs": [
        {
          "output_type": "execute_result",
          "data": {
            "text/plain": [
              "array([[5, 4, 4],\n",
              "       [5, 6, 4],\n",
              "       [6, 4, 4]])"
            ]
          },
          "metadata": {},
          "execution_count": 67
        }
      ]
    },
    {
      "cell_type": "code",
      "source": [
        "#creating a matrix\n",
        "output = np.ones((5,5))\n",
        "print(output)\n",
        "\n",
        "e=np.zeros((4,4))\n",
        "e[1,1]=9\n",
        "print(e)\n",
        "\n",
        "output[1:5,1:5]=e\n",
        "print(output)"
      ],
      "metadata": {
        "colab": {
          "base_uri": "https://localhost:8080/"
        },
        "id": "7tu4p5qjOhGM",
        "outputId": "a6bdab1b-21bd-44dc-850f-8c16576cdc38"
      },
      "execution_count": null,
      "outputs": [
        {
          "output_type": "stream",
          "name": "stdout",
          "text": [
            "[[1. 1. 1. 1. 1.]\n",
            " [1. 1. 1. 1. 1.]\n",
            " [1. 1. 1. 1. 1.]\n",
            " [1. 1. 1. 1. 1.]\n",
            " [1. 1. 1. 1. 1.]]\n",
            "[[0. 0. 0. 0.]\n",
            " [0. 9. 0. 0.]\n",
            " [0. 0. 0. 0.]\n",
            " [0. 0. 0. 0.]]\n",
            "[[1. 1. 1. 1. 1.]\n",
            " [1. 0. 0. 0. 0.]\n",
            " [1. 0. 9. 0. 0.]\n",
            " [1. 0. 0. 0. 0.]\n",
            " [1. 0. 0. 0. 0.]]\n"
          ]
        }
      ]
    },
    {
      "cell_type": "code",
      "source": [
        "#copying function along with NumPy\n",
        "f=np.array([1,2,3])\n",
        "g=f\n",
        "print(f)\n",
        "print(g)\n",
        "#below example will make both the list change which is not we want.\n",
        "g[0]=10\n",
        "print(g)\n",
        "print(f)\n",
        "#If we want to make a copy of a list and do the changes\n",
        "h=np.array([1,2,3])\n",
        "i=h.copy()\n",
        "print(i)\n",
        "\n",
        "i[1]=5\n",
        "print(i)\n",
        "print(h)"
      ],
      "metadata": {
        "colab": {
          "base_uri": "https://localhost:8080/"
        },
        "id": "TvuELg1_ayRO",
        "outputId": "eab84788-f9cf-4ff9-9df4-fde28bfa8e59"
      },
      "execution_count": null,
      "outputs": [
        {
          "output_type": "stream",
          "name": "stdout",
          "text": [
            "[1 2 3]\n",
            "[1 2 3]\n",
            "[10  2  3]\n",
            "[10  2  3]\n",
            "[1 2 3]\n",
            "[1 5 3]\n",
            "[1 2 3]\n"
          ]
        }
      ]
    },
    {
      "cell_type": "code",
      "source": [
        "#Mathematics capablity of Numpy\n",
        "j=np.array([1,2,3,4,5])\n",
        "k=np.array([1,3,3,4,5])\n",
        "print(j)\n",
        "\n",
        "print(j+2)\n",
        "print(j-2)\n",
        "print(j*2)\n",
        "print(j/2)\n",
        "print(j+k)\n",
        "\n",
        "#take the sin\n",
        "print(np.sin(j))\n",
        "print(np.cos(j))\n",
        "print(np.sin(k))"
      ],
      "metadata": {
        "colab": {
          "base_uri": "https://localhost:8080/"
        },
        "id": "2AU9H9oMZa7p",
        "outputId": "0782cd31-570e-44c6-cef4-b2318e8e2844"
      },
      "execution_count": null,
      "outputs": [
        {
          "output_type": "stream",
          "name": "stdout",
          "text": [
            "[1 2 3 4 5]\n",
            "[3 4 5 6 7]\n",
            "[-1  0  1  2  3]\n",
            "[ 2  4  6  8 10]\n",
            "[0.5 1.  1.5 2.  2.5]\n",
            "[ 2  5  6  8 10]\n",
            "[ 0.84147098  0.90929743  0.14112001 -0.7568025  -0.95892427]\n",
            "[ 0.54030231 -0.41614684 -0.9899925  -0.65364362  0.28366219]\n",
            "[ 0.84147098  0.14112001  0.14112001 -0.7568025  -0.95892427]\n"
          ]
        }
      ]
    },
    {
      "cell_type": "code",
      "source": [
        "#Linear Algebra\n",
        "alg1=np.ones((2,3))\n",
        "print(alg1)\n",
        "\n",
        "alg2=np.full((3,2),4)\n",
        "print(alg2)\n",
        "\n",
        "#print(alg1*alg2)#this wont work as the matrix has got a function for multiplication\n",
        "alg3 = np.matmul(alg1,alg2)\n",
        "print(alg3)"
      ],
      "metadata": {
        "colab": {
          "base_uri": "https://localhost:8080/"
        },
        "id": "czBkp5mAdRnb",
        "outputId": "48d1ff70-8085-4723-8e15-9ac9fa492982"
      },
      "execution_count": null,
      "outputs": [
        {
          "output_type": "stream",
          "name": "stdout",
          "text": [
            "[[1. 1. 1.]\n",
            " [1. 1. 1.]]\n",
            "[[4 4]\n",
            " [4 4]\n",
            " [4 4]]\n",
            "[[12. 12.]\n",
            " [12. 12.]]\n"
          ]
        }
      ]
    },
    {
      "cell_type": "code",
      "source": [
        "#statistics\n",
        "stats1=np.array([[1,2,3],[4,5,6]])\n",
        "stats2=np.min(stats1)\n",
        "print(stats2)\n",
        "\n",
        "stats1=np.array([[1,2,3],[4,5,6]])\n",
        "stats2=np.max(stats1,axis=0)\n",
        "print(stats2)\n",
        "\n"
      ],
      "metadata": {
        "colab": {
          "base_uri": "https://localhost:8080/"
        },
        "id": "_f5q4tZ_fszM",
        "outputId": "7bb47d72-40d8-48dc-bb13-5c313f04955b"
      },
      "execution_count": null,
      "outputs": [
        {
          "output_type": "stream",
          "name": "stdout",
          "text": [
            "1\n",
            "[4 5 6]\n"
          ]
        }
      ]
    },
    {
      "cell_type": "code",
      "source": [
        "#Reorganising array\n",
        "reorg = np.array([[1,2,3,4],[5,6,7,8]])\n",
        "print(reorg)\n",
        "print(reorg.shape)\n",
        "reorg1=reorg.reshape((4,2))\n",
        "print(reorg1)\n"
      ],
      "metadata": {
        "colab": {
          "base_uri": "https://localhost:8080/"
        },
        "id": "vCnDMN_7i7ca",
        "outputId": "ed433915-45c1-4916-e83c-e0bb20e86537"
      },
      "execution_count": null,
      "outputs": [
        {
          "output_type": "stream",
          "name": "stdout",
          "text": [
            "[[1 2 3 4]\n",
            " [5 6 7 8]]\n",
            "(2, 4)\n",
            "[[1 2]\n",
            " [3 4]\n",
            " [5 6]\n",
            " [7 8]]\n"
          ]
        }
      ]
    },
    {
      "cell_type": "code",
      "source": [
        "#vertically stacking vectors\n",
        "ver1=np.array([1,2,3,4,5])\n",
        "ver2=np.array([6,7,8,9,0])\n",
        "ver3=np.vstack([ver1,ver2,ver2,ver1])\n",
        "print(ver3)\n",
        "\n",
        "#Horizontal stacking\n",
        "np.hstack"
      ],
      "metadata": {
        "colab": {
          "base_uri": "https://localhost:8080/"
        },
        "id": "MDW-DjqXk_rW",
        "outputId": "168560a0-0d53-4d8f-ddf8-4860bbc0c2b9"
      },
      "execution_count": 41,
      "outputs": [
        {
          "output_type": "stream",
          "name": "stdout",
          "text": [
            "[[1 2 3 4 5]\n",
            " [6 7 8 9 0]\n",
            " [6 7 8 9 0]\n",
            " [1 2 3 4 5]]\n"
          ]
        },
        {
          "output_type": "execute_result",
          "data": {
            "text/plain": [
              "<function numpy.hstack(tup)>"
            ]
          },
          "metadata": {},
          "execution_count": 41
        }
      ]
    },
    {
      "cell_type": "code",
      "source": [
        "#Miscellaneous\n",
        "#local data from file\n",
        "np.genfromtxt('/content/Bigmarket.csv',delimiter=',')"
      ],
      "metadata": {
        "id": "wAVLJ13klm3u",
        "colab": {
          "base_uri": "https://localhost:8080/"
        },
        "outputId": "a45e67e1-7649-4ca9-e9ab-dc2af00646dd"
      },
      "execution_count": 44,
      "outputs": [
        {
          "output_type": "execute_result",
          "data": {
            "text/plain": [
              "array([[   nan,    nan,    nan],\n",
              "       [   nan,    nan, 31037.],\n",
              "       [   nan,    nan, 20722.],\n",
              "       [   nan,    nan, 24557.],\n",
              "       [   nan,    nan, 34649.],\n",
              "       [   nan,    nan, 29795.],\n",
              "       [   nan,    nan, 29133.],\n",
              "       [   nan,    nan, 22695.],\n",
              "       [   nan,    nan, 28312.],\n",
              "       [   nan,    nan, 31454.],\n",
              "       [   nan,    nan, 46267.],\n",
              "       [   nan,    nan, 32961.],\n",
              "       [   nan,    nan, 26451.],\n",
              "       [   nan,    nan, 47814.],\n",
              "       [   nan,    nan, 36069.],\n",
              "       [   nan,    nan, 31874.],\n",
              "       [   nan,    nan, 27253.],\n",
              "       [   nan,    nan, 40241.],\n",
              "       [   nan,    nan, 47488.],\n",
              "       [   nan,    nan, 25432.],\n",
              "       [   nan,    nan, 33880.],\n",
              "       [   nan,    nan, 29487.],\n",
              "       [   nan,    nan, 40001.],\n",
              "       [   nan,    nan, 46482.],\n",
              "       [   nan,    nan, 46313.],\n",
              "       [   nan,    nan, 47594.]])"
            ]
          },
          "metadata": {},
          "execution_count": 44
        }
      ]
    },
    {
      "cell_type": "code",
      "source": [
        "#you can index with a list in numpy\n",
        "index=np.array([1,2,3,4,5,6,7,8])\n",
        "print(index[[2,3,4]])\n",
        "\n",
        "\n"
      ],
      "metadata": {
        "colab": {
          "base_uri": "https://localhost:8080/"
        },
        "id": "rj87n17omUTL",
        "outputId": "6db40b4c-bee2-4305-d99a-21be4a72d34c"
      },
      "execution_count": 42,
      "outputs": [
        {
          "output_type": "stream",
          "name": "stdout",
          "text": [
            "[3 4 5]\n"
          ]
        }
      ]
    },
    {
      "cell_type": "code",
      "source": [
        "#String Functions\n",
        "#concatenation with strings\n",
        "print(np.char.add([\"hello\",\"hi\"],[\"abc\",\"def\"]))\n",
        "print(np.char.multiply(\"hello\",3))\n"
      ],
      "metadata": {
        "colab": {
          "base_uri": "https://localhost:8080/"
        },
        "id": "aL1WtpskiHgu",
        "outputId": "b13fd839-9089-43ca-eeec-1fb425d3ef8e"
      },
      "execution_count": 107,
      "outputs": [
        {
          "output_type": "stream",
          "name": "stdout",
          "text": [
            "['helloabc' 'hidef']\n",
            "hellohellohello\n"
          ]
        }
      ]
    },
    {
      "cell_type": "code",
      "source": [
        "#Other fill function\n",
        "#fill function\n",
        "print(np.char.center(\"hello\",20,fillchar='-'))\n",
        "#Capitalise-Capitalises the first character\n",
        "print(np.char.capitalize(\"hello world\"))\n",
        "#title-capitalises all the first character of the words\n",
        "print(np.char.title(\"How r u doing\"))\n",
        "#lowercase\n",
        "print(np.char.lower(\"Hello world\"))\n",
        "print(np.char.lower([\"Hello\", \"World\"]))\n",
        "#uppercase\n",
        "print(np.char.upper(\"Hello world\"))\n",
        "print(np.char.upper([\"Hello\", \"World\"]))\n",
        "#split function\n",
        "print(np.char.split(\"Hello world\"))\n",
        "print(np.char.splitlines(\"Hello\\n world\"))\n",
        "#strip function-strips the last letter in all the items in the array.\n",
        "print(np.char.strip([\"Helloh\", \"worldh\"],'h'))\n",
        "#replace function\n",
        "print(np.char.replace('He is a good man','is','was'))\n",
        "print(np.char.replace('He is a good man','good','bad'))\n",
        "#join\n",
        "print(np.char.join([':','-'],['dmy','dmy']))"
      ],
      "metadata": {
        "colab": {
          "base_uri": "https://localhost:8080/"
        },
        "id": "zsZN96zudDKr",
        "outputId": "4c63a97b-2e2b-419f-c719-a3a7ed5d5817"
      },
      "execution_count": 47,
      "outputs": [
        {
          "output_type": "stream",
          "name": "stdout",
          "text": [
            "-------hello--------\n",
            "Hello world\n",
            "How R U Doing\n",
            "hello world\n",
            "['hello' 'world']\n",
            "HELLO WORLD\n",
            "['HELLO' 'WORLD']\n",
            "['Hello', 'world']\n",
            "['Hello', ' world']\n",
            "['Hello' 'world']\n",
            "He was a good man\n",
            "He is a bad man\n",
            "['d:m:y' 'd-m-y']\n"
          ]
        }
      ]
    },
    {
      "cell_type": "code",
      "source": [
        "#Array Manipulation\n",
        "#changing shape\n",
        "a= np.arange(9)\n",
        "print('The original array', a)\n",
        "\n",
        "b=a.reshape(3,3)\n",
        "print('The modified array', b)\n",
        "#flatten array \n",
        "print(b.flatten())\n",
        "#Fortran\n",
        "print(b.flatten(order='F'))\n",
        "print(b.flatten(order='C'))\n",
        "print(b.flatten(order='A'))\n",
        "#reshape\n",
        "a=np.arange(12)\n",
        "b=a.reshape(3,4)\n",
        "print(b)\n",
        "#transpose\n",
        "print(np.transpose(a))"
      ],
      "metadata": {
        "colab": {
          "base_uri": "https://localhost:8080/"
        },
        "id": "KvdbGLO8f6UL",
        "outputId": "b8ce962d-5253-4b31-c6d4-b231458ee89d"
      },
      "execution_count": 68,
      "outputs": [
        {
          "output_type": "stream",
          "name": "stdout",
          "text": [
            "The original array [0 1 2 3 4 5 6 7 8]\n",
            "The modified array [[0 1 2]\n",
            " [3 4 5]\n",
            " [6 7 8]]\n",
            "[0 1 2 3 4 5 6 7 8]\n",
            "[0 3 6 1 4 7 2 5 8]\n",
            "[0 1 2 3 4 5 6 7 8]\n",
            "[0 1 2 3 4 5 6 7 8]\n",
            "[[ 0  1  2  3]\n",
            " [ 4  5  6  7]\n",
            " [ 8  9 10 11]]\n",
            "[ 0  1  2  3  4  5  6  7  8  9 10 11]\n"
          ]
        }
      ]
    },
    {
      "cell_type": "code",
      "source": [
        "#Numpy Arithmetic Operations\n",
        "a=np.arange(9).reshape(3,3)\n",
        "print(a)\n",
        "b=np.array([10,100,10])\n",
        "print(b)\n",
        "\n",
        "print(np.add(a,b))\n",
        "print(np.subtract(a,b))\n",
        "print(np.multiply(a,b))\n",
        "print(np.divide(a,b))\n",
        "\n"
      ],
      "metadata": {
        "colab": {
          "base_uri": "https://localhost:8080/"
        },
        "id": "5Yu3T99XkZ0Y",
        "outputId": "40226671-349b-41f3-8884-a3b2608b2d70"
      },
      "execution_count": 76,
      "outputs": [
        {
          "output_type": "stream",
          "name": "stdout",
          "text": [
            "[[0 1 2]\n",
            " [3 4 5]\n",
            " [6 7 8]]\n",
            "[ 10 100  10]\n",
            "[[ 10 101  12]\n",
            " [ 13 104  15]\n",
            " [ 16 107  18]]\n",
            "[[-10 -99  -8]\n",
            " [ -7 -96  -5]\n",
            " [ -4 -93  -2]]\n",
            "[[  0 100  20]\n",
            " [ 30 400  50]\n",
            " [ 60 700  80]]\n",
            "[[0.   0.01 0.2 ]\n",
            " [0.3  0.04 0.5 ]\n",
            " [0.6  0.07 0.8 ]]\n"
          ]
        }
      ]
    },
    {
      "cell_type": "code",
      "source": [
        "#Slicing array\n",
        "a=np.arange(20)\n",
        "print(a)\n",
        "print(a[4:])\n",
        "print(a[:5])\n",
        "print(a[::-1])\n",
        "print(a[:])\n",
        "#start,stop, step\n",
        "s=slice(2,18,2)\n",
        "print(a[s])"
      ],
      "metadata": {
        "colab": {
          "base_uri": "https://localhost:8080/"
        },
        "id": "M4_Z4SrnlbVL",
        "outputId": "8886c022-a758-4f3e-ee73-8630cd909956"
      },
      "execution_count": 84,
      "outputs": [
        {
          "output_type": "stream",
          "name": "stdout",
          "text": [
            "[ 0  1  2  3  4  5  6  7  8  9 10 11 12 13 14 15 16 17 18 19]\n",
            "[ 4  5  6  7  8  9 10 11 12 13 14 15 16 17 18 19]\n",
            "[0 1 2 3 4]\n",
            "[19 18 17 16 15 14 13 12 11 10  9  8  7  6  5  4  3  2  1  0]\n",
            "[ 0  1  2  3  4  5  6  7  8  9 10 11 12 13 14 15 16 17 18 19]\n",
            "[ 2  4  6  8 10 12 14 16]\n"
          ]
        }
      ]
    },
    {
      "cell_type": "code",
      "source": [
        "#Iterating over array\n",
        "#nditer-is the iterator\n",
        "\n",
        "a=np.arange(0,45,5)#similar to slice\n",
        "a=a.reshape(3,3)\n",
        "print(a)\n",
        "print(a.flatten())\n",
        "\n",
        "#loop\n",
        "b=np.array([1,2,3,4,5,6,7,8,9])\n",
        "for x in np.nditer(b):\n",
        "  x=x*2\n",
        "  print(x)\n",
        "\n",
        "#Iterating order (C style and F style)\n",
        "\n",
        "print(a)\n",
        "for x in np.nditer(a,order='C'):\n",
        "     print(x)\n",
        "for x in np.nditer(a,order='F'):\n",
        "      print(x)\n",
        "   "
      ],
      "metadata": {
        "colab": {
          "base_uri": "https://localhost:8080/"
        },
        "id": "lO0nTLBSl_1o",
        "outputId": "a314e7d3-6381-4eef-f296-3b5a94b92de3"
      },
      "execution_count": 106,
      "outputs": [
        {
          "output_type": "stream",
          "name": "stdout",
          "text": [
            "[[ 0  5 10]\n",
            " [15 20 25]\n",
            " [30 35 40]]\n",
            "[ 0  5 10 15 20 25 30 35 40]\n",
            "2\n",
            "4\n",
            "6\n",
            "8\n",
            "10\n",
            "12\n",
            "14\n",
            "16\n",
            "18\n",
            "[[ 0  5 10]\n",
            " [15 20 25]\n",
            " [30 35 40]]\n",
            "0\n",
            "5\n",
            "10\n",
            "15\n",
            "20\n",
            "25\n",
            "30\n",
            "35\n",
            "40\n",
            "0\n",
            "15\n",
            "30\n",
            "5\n",
            "20\n",
            "35\n",
            "10\n",
            "25\n",
            "40\n"
          ]
        }
      ]
    },
    {
      "cell_type": "code",
      "source": [
        "#Joining arrays\n",
        "a=np.array([[1,2],[3,4],[9,0]])\n",
        "print('first array',a)\n",
        "b=np.array([[5,6],[7,8],[11,12]])\n",
        "print('second array',b)\n",
        "print('joining the arrays along axis 1')\n",
        "print(np.concatenate((a,b),axis=1))\n",
        "print('joining the arrays along axis 0')\n",
        "print(np.concatenate((a,b),axis=0))\n",
        "#print('joining the arrays along axis 2')\n",
        "#print(np.concatenate((a,b),axis=2))"
      ],
      "metadata": {
        "colab": {
          "base_uri": "https://localhost:8080/"
        },
        "id": "7iAIyjLCoWsH",
        "outputId": "9d159091-710f-4270-ebec-86b3a6a5680f"
      },
      "execution_count": 114,
      "outputs": [
        {
          "output_type": "stream",
          "name": "stdout",
          "text": [
            "first array [[1 2]\n",
            " [3 4]\n",
            " [9 0]]\n",
            "second array [[ 5  6]\n",
            " [ 7  8]\n",
            " [11 12]]\n",
            "joining the arrays along axis 1\n",
            "[[ 1  2  5  6]\n",
            " [ 3  4  7  8]\n",
            " [ 9  0 11 12]]\n",
            "joining the arrays along axis 0\n",
            "[[ 1  2]\n",
            " [ 3  4]\n",
            " [ 9  0]\n",
            " [ 5  6]\n",
            " [ 7  8]\n",
            " [11 12]]\n"
          ]
        }
      ]
    },
    {
      "cell_type": "code",
      "source": [
        "#Splitting array\n",
        "a=np.arange(9)\n",
        "print(np.split(a,3))\n",
        "print(np.split(a,[3,5,7]))\n",
        "print(np.split(a,[4,6,7]))\n"
      ],
      "metadata": {
        "colab": {
          "base_uri": "https://localhost:8080/"
        },
        "id": "sdGXOliHsEX7",
        "outputId": "c869ca01-5f86-4b77-dc72-22752c35910d"
      },
      "execution_count": 120,
      "outputs": [
        {
          "output_type": "stream",
          "name": "stdout",
          "text": [
            "[array([0, 1, 2]), array([3, 4, 5]), array([6, 7, 8])]\n",
            "[array([0, 1, 2]), array([3, 4]), array([5, 6]), array([7, 8])]\n",
            "[array([0, 1, 2, 3]), array([4, 5]), array([6]), array([7, 8])]\n"
          ]
        }
      ]
    },
    {
      "cell_type": "code",
      "source": [
        "#Resizing an array- we don't have to worry about the dimention\n",
        "a=np.array([[1,2,3],[5,6,7]])\n",
        "print(a)\n",
        "print(a.shape)\n",
        "print('\\n')\n",
        "b=np.resize(a,(2,3))\n",
        "print(b)\n",
        "print(b.shape)\n",
        "#we don't have to worry about the dimention\n",
        "b=np.resize(a,(4,4))\n",
        "print(b)\n",
        "print(b.shape)"
      ],
      "metadata": {
        "colab": {
          "base_uri": "https://localhost:8080/"
        },
        "id": "WklX7QBFsyHj",
        "outputId": "1688bc7d-9cc5-4ca7-f52e-bb545714231e"
      },
      "execution_count": 135,
      "outputs": [
        {
          "output_type": "stream",
          "name": "stdout",
          "text": [
            "[[1 2 3]\n",
            " [5 6 7]]\n",
            "(2, 3)\n",
            "\n",
            "\n",
            "[[1 2 3]\n",
            " [5 6 7]]\n",
            "(2, 3)\n",
            "[[1 2 3 5]\n",
            " [6 7 1 2]\n",
            " [3 5 6 7]\n",
            " [1 2 3 5]]\n",
            "(4, 4)\n"
          ]
        }
      ]
    },
    {
      "cell_type": "code",
      "source": [
        "#Histogram-How many times a different number come in\n",
        "from matplotlib import pyplot as plt\n",
        "a=np.array([20,87,4,40,53,74,56,51,11,20,40,15,79,25,27])\n",
        "plt.hist(a,bins=[0,20,40,60,80,100])\n",
        "plt.title(\"Histogram\")\n",
        "plt.show()\n",
        "\n",
        "a=np.array([20,87,4,40,53,74,56,51,11,20,40,15,79,25,27,31,67,91])\n",
        "plt.hist(a,bins=[0,10,20,30,40,50,60,70,80,90,100])\n",
        "plt.title(\"Histogram\")\n",
        "plt.show()"
      ],
      "metadata": {
        "colab": {
          "base_uri": "https://localhost:8080/",
          "height": 545
        },
        "id": "mkIH8RB9twWE",
        "outputId": "5881d8e0-1a95-4482-988e-00f27b6268f2"
      },
      "execution_count": 141,
      "outputs": [
        {
          "output_type": "display_data",
          "data": {
            "text/plain": [
              "<Figure size 432x288 with 1 Axes>"
            ],
            "image/png": "[encoded data removed]"
          },
          "metadata": {
            "needs_background": "light"
          }
        },
        {
          "output_type": "display_data",
          "data": {
            "text/plain": [
              "<Figure size 432x288 with 1 Axes>"
            ],
            "image/png": "[encoded data removed]"
          },
          "metadata": {
            "needs_background": "light"
          }
        }
      ]
    },
    {
      "cell_type": "code",
      "source": [
        "#Other useful functions in Numpy\n",
        "#linespace func\n",
        "a=np.linspace(1,3,10)\n",
        "print(a)\n",
        "\n",
        "#sum and axis\n",
        "a=np.array([[1,2,3],[4,5,6]])\n",
        "print(a.sum(axis=0))\n",
        "print(a.sum(axis=1))\n",
        "\n",
        "#square root and standard deviation\n",
        "a=np.array([[1,2,3],[4,5,6]])\n",
        "print(np.sqrt(a))\n",
        "print(np.std(a))\n",
        "#ravel function\n",
        "a=np.array([[1,2,3],[4,5,6]])\n",
        "print(a.ravel())\n",
        "#log function\n",
        "a=np.array([[1,2,3],[4,5,6]])\n",
        "print(np.log10(a))"
      ],
      "metadata": {
        "colab": {
          "base_uri": "https://localhost:8080/"
        },
        "id": "9ytI6Bw9vOMC",
        "outputId": "b27c6c82-37c7-4f1d-fd9d-a8f3f74d527f"
      },
      "execution_count": 152,
      "outputs": [
        {
          "output_type": "stream",
          "name": "stdout",
          "text": [
            "[1.         1.22222222 1.44444444 1.66666667 1.88888889 2.11111111\n",
            " 2.33333333 2.55555556 2.77777778 3.        ]\n",
            "[5 7 9]\n",
            "[ 6 15]\n",
            "[[1.         1.41421356 1.73205081]\n",
            " [2.         2.23606798 2.44948974]]\n",
            "1.707825127659933\n",
            "[1 2 3 4 5 6]\n",
            "[[0.         0.30103    0.47712125]\n",
            " [0.60205999 0.69897    0.77815125]]\n"
          ]
        }
      ]
    },
    {
      "cell_type": "code",
      "source": [
        "#Numpy challenge\n",
        "x=np.arange(0,3*np.pi,0.1)\n",
        "print(x)\n",
        "y=np.sin(x)\n",
        "print(y)\n",
        "plt.plot(x,y)\n",
        "plot.show()"
      ],
      "metadata": {
        "colab": {
          "base_uri": "https://localhost:8080/",
          "height": 858
        },
        "id": "ij-W9y0cwkuh",
        "outputId": "dc62e08c-0c4a-4b20-9bcc-eaed244cb9a9"
      },
      "execution_count": 156,
      "outputs": [
        {
          "output_type": "stream",
          "name": "stdout",
          "text": [
            "[0.  0.1 0.2 0.3 0.4 0.5 0.6 0.7 0.8 0.9 1.  1.1 1.2 1.3 1.4 1.5 1.6 1.7\n",
            " 1.8 1.9 2.  2.1 2.2 2.3 2.4 2.5 2.6 2.7 2.8 2.9 3.  3.1 3.2 3.3 3.4 3.5\n",
            " 3.6 3.7 3.8 3.9 4.  4.1 4.2 4.3 4.4 4.5 4.6 4.7 4.8 4.9 5.  5.1 5.2 5.3\n",
            " 5.4 5.5 5.6 5.7 5.8 5.9 6.  6.1 6.2 6.3 6.4 6.5 6.6 6.7 6.8 6.9 7.  7.1\n",
            " 7.2 7.3 7.4 7.5 7.6 7.7 7.8 7.9 8.  8.1 8.2 8.3 8.4 8.5 8.6 8.7 8.8 8.9\n",
            " 9.  9.1 9.2 9.3 9.4]\n",
            "[ 0.          0.09983342  0.19866933  0.29552021  0.38941834  0.47942554\n",
            "  0.56464247  0.64421769  0.71735609  0.78332691  0.84147098  0.89120736\n",
            "  0.93203909  0.96355819  0.98544973  0.99749499  0.9995736   0.99166481\n",
            "  0.97384763  0.94630009  0.90929743  0.86320937  0.8084964   0.74570521\n",
            "  0.67546318  0.59847214  0.51550137  0.42737988  0.33498815  0.23924933\n",
            "  0.14112001  0.04158066 -0.05837414 -0.15774569 -0.2555411  -0.35078323\n",
            " -0.44252044 -0.52983614 -0.61185789 -0.68776616 -0.7568025  -0.81827711\n",
            " -0.87157577 -0.91616594 -0.95160207 -0.97753012 -0.993691   -0.99992326\n",
            " -0.99616461 -0.98245261 -0.95892427 -0.92581468 -0.88345466 -0.83226744\n",
            " -0.77276449 -0.70554033 -0.63126664 -0.55068554 -0.46460218 -0.37387666\n",
            " -0.2794155  -0.1821625  -0.0830894   0.0168139   0.1165492   0.21511999\n",
            "  0.31154136  0.40484992  0.49411335  0.57843976  0.6569866   0.72896904\n",
            "  0.79366786  0.85043662  0.8987081   0.93799998  0.96791967  0.98816823\n",
            "  0.99854335  0.99894134  0.98935825  0.96988981  0.94073056  0.90217183\n",
            "  0.85459891  0.79848711  0.7343971   0.66296923  0.58491719  0.50102086\n",
            "  0.41211849  0.31909836  0.22288991  0.12445442  0.02477543]\n"
          ]
        },
        {
          "output_type": "error",
          "ename": "NameError",
          "evalue": "ignored",
          "traceback": [
            "\u001b[0;31m---------------------------------------------------------------------------\u001b[0m",
            "\u001b[0;31mNameError\u001b[0m                                 Traceback (most recent call last)",
            "\u001b[0;32m<ipython-input-156-8fbe2296bae7>\u001b[0m in \u001b[0;36m<module>\u001b[0;34m\u001b[0m\n\u001b[1;32m      5\u001b[0m \u001b[0mprint\u001b[0m\u001b[0;34m(\u001b[0m\u001b[0my\u001b[0m\u001b[0;34m)\u001b[0m\u001b[0;34m\u001b[0m\u001b[0;34m\u001b[0m\u001b[0m\n\u001b[1;32m      6\u001b[0m \u001b[0mplt\u001b[0m\u001b[0;34m.\u001b[0m\u001b[0mplot\u001b[0m\u001b[0;34m(\u001b[0m\u001b[0mx\u001b[0m\u001b[0;34m,\u001b[0m\u001b[0my\u001b[0m\u001b[0;34m)\u001b[0m\u001b[0;34m\u001b[0m\u001b[0;34m\u001b[0m\u001b[0m\n\u001b[0;32m----> 7\u001b[0;31m \u001b[0mplot\u001b[0m\u001b[0;34m.\u001b[0m\u001b[0mshow\u001b[0m\u001b[0;34m(\u001b[0m\u001b[0;34m)\u001b[0m\u001b[0;34m\u001b[0m\u001b[0;34m\u001b[0m\u001b[0m\n\u001b[0m",
            "\u001b[0;31mNameError\u001b[0m: name 'plot' is not defined"
          ]
        },
        {
          "output_type": "display_data",
          "data": {
            "text/plain": [
              "<Figure size 432x288 with 1 Axes>"
            ],
            "image/png": "[encoded data removed]"
          },
          "metadata": {
            "needs_background": "light"
          }
        }
      ]
    }
  ]
}