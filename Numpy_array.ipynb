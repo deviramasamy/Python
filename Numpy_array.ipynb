{
  "nbformat": 4,
  "nbformat_minor": 0,
  "metadata": {
    "colab": {
      "provenance": [],
      "authorship_tag": "ABX9TyMqFWQXlnsT9Qv1wT0RjINV",
      "include_colab_link": true
    },
    "kernelspec": {
      "name": "python3",
      "display_name": "Python 3"
    },
    "language_info": {
      "name": "python"
    }
  },
  "cells": [
    {
      "cell_type": "markdown",
      "metadata": {
        "id": "view-in-github",
        "colab_type": "text"
      },
      "source": [
        "<a href=\"https://colab.research.google.com/github/deviramasamy/Python/blob/main/Numpy_array.ipynb\" target=\"_parent\"><img src=\"https://colab.research.google.com/assets/colab-badge.svg\" alt=\"Open In Colab\"/></a>"
      ]
    },
    {
      "cell_type": "markdown",
      "source": [
        "**Numpy array Vs Python List**\n",
        "\n",
        "Why Numpy array:-Numerical Python. Numpy array is widely used object in Numpy Library,which is similar to list. Array is homegeoneous wheareas list is heterogeneous. Every array is a list but not every list is a array.\n",
        "\n",
        "It is used for scientific calculation and it is a library. Basic for other major libraries like pandas.\n",
        "\n",
        "1.   Fast-optimized-Less bytes of memory\n",
        "2.   No type checking when iterating through object.\n",
        "2.   less memory and speed\n",
        "3.   convinient-lot of functionalities\n",
        "\n",
        "uses continuous memory.\n",
        "\n",
        "List: can do insertion, deletion,appending, concatenation etc\n",
        "Numpy-Lot more than list\n",
        "\n",
        "**Applications in NumPy** \n",
        "\n",
        "Matlab replacement\n",
        "plotting\n",
        "backend\n",
        "machine learning\n",
        "\n",
        "\n",
        "\n",
        "Numpy-uses fixed type. eg: a number in a matirx\n",
        "\n",
        "5 requires lot more space in list vecause list stores value as size,reference count,object type and object value whereas NumPy stores only in a memory space of 4 bytes\n",
        "\n",
        "\n",
        "\n",
        "Import numpy as np"
      ],
      "metadata": {
        "id": "Df5vYW6_d4G7"
      }
    },
    {
      "cell_type": "code",
      "execution_count": 23,
      "metadata": {
        "colab": {
          "base_uri": "https://localhost:8080/"
        },
        "id": "bGgrXTgxdzvB",
        "outputId": "74bd32a0-2fe1-477e-e545-bdb668d0bf06"
      },
      "outputs": [
        {
          "output_type": "stream",
          "name": "stdout",
          "text": [
            "[1 2 3]\n",
            "[[ 9  8  7]\n",
            " [11  5  6]]\n"
          ]
        }
      ],
      "source": [
        "#printing a numpy array\n",
        "import numpy as np\n",
        "a=np.array([1,2,3],dtype='int16')\n",
        "print(a)\n",
        "#2d array\n",
        "z = np.array([[9,8,7],[11,5,6]])\n",
        "print(z)\n"
      ]
    },
    {
      "cell_type": "code",
      "source": [
        "#get dimension - ndim\n",
        "print(a.ndim)\n",
        "print(z.ndim)\n",
        "#get shape\n",
        "print(a.shape)\n",
        "#get type\n",
        "print(a.dtype)\n",
        "#get itemsize-16 is 2 bytes, 32 is 8 bytes\n",
        "print(a.itemsize)\n",
        "#get totalsize\n",
        "print(a.nbytes)"
      ],
      "metadata": {
        "colab": {
          "base_uri": "https://localhost:8080/"
        },
        "id": "U6o0BwvLDUgY",
        "outputId": "07b8ae06-ddae-40ca-95c3-5b9abffc3013"
      },
      "execution_count": 26,
      "outputs": [
        {
          "output_type": "stream",
          "name": "stdout",
          "text": [
            "1\n",
            "2\n",
            "(3,)\n",
            "int16\n",
            "2\n",
            "6\n"
          ]
        }
      ]
    },
    {
      "cell_type": "code",
      "source": [
        "#to find out why numpy array\n",
        "import time\n",
        "import sys\n",
        "b=range(1000)\n",
        "print(sys.getsizeof(5),len(b))\n",
        "print(sys.getsizeof(5)*len(b))\n",
        "\n",
        "#numpy\n",
        "c=np.arange(1000)\n",
        "print(c.size*c.itemsize)\n",
        "\n",
        "#speed\n",
        "size =100000\n",
        "L1=range(size)\n",
        "L2=range(size)\n",
        "a1=np.arange(size)\n",
        "a2=np.arange(size)\n"
      ],
      "metadata": {
        "colab": {
          "base_uri": "https://localhost:8080/"
        },
        "id": "5Guyht2bfbER",
        "outputId": "8139621c-c88d-48bd-e106-6a98afe213a3"
      },
      "execution_count": 27,
      "outputs": [
        {
          "output_type": "stream",
          "name": "stdout",
          "text": [
            "28 1000\n",
            "28000\n",
            "8000\n"
          ]
        }
      ]
    },
    {
      "cell_type": "code",
      "source": [
        "#accessing/changing specific elements, rows, columns etc.\n",
        "c = np.array([[1,2,3,4,5,6,7],[8,9,10,11,12,13,14]])\n",
        "print(c)\n",
        "print(c.shape)\n",
        "#get a specific element [r,c]\n",
        "print(c[1,5])  \n",
        "print(c[0,4])\n",
        "#get a specific row\n",
        "print(c[0,:])\n",
        "#get a specific column\n",
        "print(c[:,2])\n",
        "#get a little more fancy [startindex,endindex,stepsize]\n",
        "print(c[1,1:6:3])\n",
        "#to change a value in the list\n",
        "c[1,5] =20\n",
        "print(c)\n"
      ],
      "metadata": {
        "colab": {
          "base_uri": "https://localhost:8080/"
        },
        "id": "zQRbtSCCEucf",
        "outputId": "a7cffc55-a57d-4191-fa0c-90bacd24fd33"
      },
      "execution_count": 51,
      "outputs": [
        {
          "output_type": "stream",
          "name": "stdout",
          "text": [
            "[[ 1  2  3  4  5  6  7]\n",
            " [ 8  9 10 11 12 13 14]]\n",
            "(2, 7)\n",
            "13\n",
            "5\n",
            "[1 2 3 4 5 6 7]\n",
            "[ 3 10]\n",
            "[ 9 12]\n",
            "[[ 1  2  3  4  5  6  7]\n",
            " [ 8  9 10 11 12 20 14]]\n"
          ]
        }
      ]
    },
    {
      "cell_type": "code",
      "source": [
        "#3d example\n",
        "d=np.array([[[1,2],[3,4],[5,6],[7,8]]])\n",
        "print(d)\n",
        "#specific element-work outside in\n",
        "print(d[0,1,1])\n"
      ],
      "metadata": {
        "colab": {
          "base_uri": "https://localhost:8080/"
        },
        "id": "rh-4dN0yJ6KL",
        "outputId": "61f5f4cf-7d31-4752-f8aa-6dc74a1ea252"
      },
      "execution_count": 55,
      "outputs": [
        {
          "output_type": "stream",
          "name": "stdout",
          "text": [
            "[[[1 2]\n",
            "  [3 4]\n",
            "  [5 6]\n",
            "  [7 8]]]\n",
            "4\n"
          ]
        }
      ]
    },
    {
      "cell_type": "code",
      "source": [
        "#Initialising different types of array\n",
        "#all 0's matrix\n",
        "np.zeros((2,3,3,2))\n",
        "#all 1's matrix\n",
        "np.ones(())"
      ],
      "metadata": {
        "colab": {
          "base_uri": "https://localhost:8080/"
        },
        "id": "HLef1cq_KlpH",
        "outputId": "ccc0f059-e379-47c4-f0e6-e4b07c420148"
      },
      "execution_count": 58,
      "outputs": [
        {
          "output_type": "execute_result",
          "data": {
            "text/plain": [
              "array([[[[0., 0.],\n",
              "         [0., 0.],\n",
              "         [0., 0.]],\n",
              "\n",
              "        [[0., 0.],\n",
              "         [0., 0.],\n",
              "         [0., 0.]],\n",
              "\n",
              "        [[0., 0.],\n",
              "         [0., 0.],\n",
              "         [0., 0.]]],\n",
              "\n",
              "\n",
              "       [[[0., 0.],\n",
              "         [0., 0.],\n",
              "         [0., 0.]],\n",
              "\n",
              "        [[0., 0.],\n",
              "         [0., 0.],\n",
              "         [0., 0.]],\n",
              "\n",
              "        [[0., 0.],\n",
              "         [0., 0.],\n",
              "         [0., 0.]]]])"
            ]
          },
          "metadata": {},
          "execution_count": 58
        }
      ]
    }
  ]
}