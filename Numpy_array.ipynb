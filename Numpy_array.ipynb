{
  "nbformat": 4,
  "nbformat_minor": 0,
  "metadata": {
    "colab": {
      "provenance": [],
      "authorship_tag": "ABX9TyOcB9Yeug9xG579UOoasCS8",
      "include_colab_link": true
    },
    "kernelspec": {
      "name": "python3",
      "display_name": "Python 3"
    },
    "language_info": {
      "name": "python"
    }
  },
  "cells": [
    {
      "cell_type": "markdown",
      "metadata": {
        "id": "view-in-github",
        "colab_type": "text"
      },
      "source": [
        "<a href=\"https://colab.research.google.com/github/deviramasamy/Python/blob/main/Numpy_array.ipynb\" target=\"_parent\"><img src=\"https://colab.research.google.com/assets/colab-badge.svg\" alt=\"Open In Colab\"/></a>"
      ]
    },
    {
      "cell_type": "markdown",
      "source": [
        "**Numpy array Vs Python List**\n",
        "\n",
        "Why Numpy array:-Numerical Python. Numpy array is widely used object in Numpy Library,which is similar to list. Array is homegeoneous wheareas list is heterogeneous. Every array is a list but not every list is a array.\n",
        "\n",
        "It is used for scientific calculation and it is a library. Basic for other major libraries like pandas.\n",
        "\n",
        "1.   Fast-optimized-Less bytes of memory\n",
        "2.   No type checking when iterating through object.\n",
        "2.   less memory and speed\n",
        "3.   convinient-lot of functionalities\n",
        "\n",
        "uses continuous memory.\n",
        "\n",
        "List: can do insertion, deletion,appending, concatenation etc\n",
        "Numpy-Lot more than list\n",
        "\n",
        "**Applications in NumPy** \n",
        "\n",
        "Matlab replacement\n",
        "plotting\n",
        "backend\n",
        "machine learning\n",
        "\n",
        "\n",
        "\n",
        "Numpy-uses fixed type. eg: a number in a matirx\n",
        "\n",
        "5 requires lot more space in list vecause list stores value as size,reference count,object type and object value whereas NumPy stores only in a memory space of 4 bytes\n",
        "\n",
        "\n",
        "\n",
        "Import numpy as np"
      ],
      "metadata": {
        "id": "Df5vYW6_d4G7"
      }
    },
    {
      "cell_type": "code",
      "execution_count": 5,
      "metadata": {
        "colab": {
          "base_uri": "https://localhost:8080/"
        },
        "id": "bGgrXTgxdzvB",
        "outputId": "c00042ef-8c00-4120-bc76-7101317c99b6"
      },
      "outputs": [
        {
          "output_type": "stream",
          "name": "stdout",
          "text": [
            "[1 2 3]\n",
            "[[ 9  8  7]\n",
            " [11  5  6]]\n"
          ]
        }
      ],
      "source": [
        "#printing a numpy array\n",
        "import numpy as np\n",
        "a=np.array([1,2,3],dtype='int16')\n",
        "print(a)\n",
        "#2d array\n",
        "z = np.array([[9,8,7],[11,5,6]])\n",
        "print(z)\n"
      ]
    },
    {
      "cell_type": "code",
      "source": [
        "#get dimension - ndim\n",
        "print(a.ndim)\n",
        "print(z.ndim)\n",
        "#get shape\n",
        "print(a.shape)\n",
        "#get type\n",
        "print(a.dtype)\n",
        "#get itemsize-16 is 2 bytes, 32 is 8 bytes\n",
        "print(a.itemsize)\n",
        "#get totalsize\n",
        "print(a.nbytes)"
      ],
      "metadata": {
        "colab": {
          "base_uri": "https://localhost:8080/"
        },
        "id": "U6o0BwvLDUgY",
        "outputId": "07b8ae06-ddae-40ca-95c3-5b9abffc3013"
      },
      "execution_count": null,
      "outputs": [
        {
          "output_type": "stream",
          "name": "stdout",
          "text": [
            "1\n",
            "2\n",
            "(3,)\n",
            "int16\n",
            "2\n",
            "6\n"
          ]
        }
      ]
    },
    {
      "cell_type": "code",
      "source": [
        "#to find out why numpy array\n",
        "import time\n",
        "import sys\n",
        "b=range(1000)\n",
        "print(sys.getsizeof(5),len(b))\n",
        "print(sys.getsizeof(5)*len(b))\n",
        "\n",
        "#numpy\n",
        "c=np.arange(1000)\n",
        "print(c.size*c.itemsize)\n",
        "\n",
        "#speed\n",
        "size =100000\n",
        "L1=range(size)\n",
        "L2=range(size)\n",
        "a1=np.arange(size)\n",
        "a2=np.arange(size)\n"
      ],
      "metadata": {
        "colab": {
          "base_uri": "https://localhost:8080/"
        },
        "id": "5Guyht2bfbER",
        "outputId": "8139621c-c88d-48bd-e106-6a98afe213a3"
      },
      "execution_count": null,
      "outputs": [
        {
          "output_type": "stream",
          "name": "stdout",
          "text": [
            "28 1000\n",
            "28000\n",
            "8000\n"
          ]
        }
      ]
    },
    {
      "cell_type": "code",
      "source": [
        "#accessing/changing specific elements, rows, columns etc.\n",
        "c = np.array([[1,2,3,4,5,6,7],[8,9,10,11,12,13,14]])\n",
        "print(c)\n",
        "print(c.shape)\n",
        "#get a specific element [r,c]\n",
        "print(c[1,5])  \n",
        "print(c[0,4])\n",
        "#get a specific row\n",
        "print(c[0,:])\n",
        "#get a specific column\n",
        "print(c[:,2])\n",
        "#get a little more fancy [startindex,endindex,stepsize]\n",
        "print(c[1,1:6:3])\n",
        "#to change a value in the list\n",
        "c[1,5] =20\n",
        "print(c)\n"
      ],
      "metadata": {
        "colab": {
          "base_uri": "https://localhost:8080/"
        },
        "id": "zQRbtSCCEucf",
        "outputId": "a7cffc55-a57d-4191-fa0c-90bacd24fd33"
      },
      "execution_count": null,
      "outputs": [
        {
          "output_type": "stream",
          "name": "stdout",
          "text": [
            "[[ 1  2  3  4  5  6  7]\n",
            " [ 8  9 10 11 12 13 14]]\n",
            "(2, 7)\n",
            "13\n",
            "5\n",
            "[1 2 3 4 5 6 7]\n",
            "[ 3 10]\n",
            "[ 9 12]\n",
            "[[ 1  2  3  4  5  6  7]\n",
            " [ 8  9 10 11 12 20 14]]\n"
          ]
        }
      ]
    },
    {
      "cell_type": "code",
      "source": [
        "#3d example\n",
        "d=np.array([[[1,2],[3,4],[5,6],[7,8]]])\n",
        "print(d)\n",
        "#specific element-work outside in\n",
        "print(d[0,1,1])\n"
      ],
      "metadata": {
        "colab": {
          "base_uri": "https://localhost:8080/"
        },
        "id": "rh-4dN0yJ6KL",
        "outputId": "61f5f4cf-7d31-4752-f8aa-6dc74a1ea252"
      },
      "execution_count": null,
      "outputs": [
        {
          "output_type": "stream",
          "name": "stdout",
          "text": [
            "[[[1 2]\n",
            "  [3 4]\n",
            "  [5 6]\n",
            "  [7 8]]]\n",
            "4\n"
          ]
        }
      ]
    },
    {
      "cell_type": "code",
      "source": [
        "#Initialising different types of array\n",
        "#all 0's matrix\n",
        "np.zeros((2,3,3,2))\n",
        "#all 1's matrix\n",
        "np.ones(())\n",
        "#any other number (full_like)\n",
        "np.full_like(a,4)\n",
        "#random decimal\n",
        "np.random.rand(4,2,3)\n",
        "#random integer\n",
        "np.random.randint(4,7,size =(3,3))\n"
      ],
      "metadata": {
        "colab": {
          "base_uri": "https://localhost:8080/"
        },
        "id": "HLef1cq_KlpH",
        "outputId": "389b142a-a51e-4a7e-bf0c-38b8514983f3"
      },
      "execution_count": null,
      "outputs": [
        {
          "output_type": "execute_result",
          "data": {
            "text/plain": [
              "array([[5, 4, 4],\n",
              "       [5, 6, 4],\n",
              "       [6, 4, 4]])"
            ]
          },
          "metadata": {},
          "execution_count": 67
        }
      ]
    },
    {
      "cell_type": "code",
      "source": [
        "#creating a matrix\n",
        "output = np.ones((5,5))\n",
        "print(output)\n",
        "\n",
        "e=np.zeros((4,4))\n",
        "e[1,1]=9\n",
        "print(e)\n",
        "\n",
        "output[1:5,1:5]=e\n",
        "print(output)"
      ],
      "metadata": {
        "colab": {
          "base_uri": "https://localhost:8080/"
        },
        "id": "7tu4p5qjOhGM",
        "outputId": "a6bdab1b-21bd-44dc-850f-8c16576cdc38"
      },
      "execution_count": null,
      "outputs": [
        {
          "output_type": "stream",
          "name": "stdout",
          "text": [
            "[[1. 1. 1. 1. 1.]\n",
            " [1. 1. 1. 1. 1.]\n",
            " [1. 1. 1. 1. 1.]\n",
            " [1. 1. 1. 1. 1.]\n",
            " [1. 1. 1. 1. 1.]]\n",
            "[[0. 0. 0. 0.]\n",
            " [0. 9. 0. 0.]\n",
            " [0. 0. 0. 0.]\n",
            " [0. 0. 0. 0.]]\n",
            "[[1. 1. 1. 1. 1.]\n",
            " [1. 0. 0. 0. 0.]\n",
            " [1. 0. 9. 0. 0.]\n",
            " [1. 0. 0. 0. 0.]\n",
            " [1. 0. 0. 0. 0.]]\n"
          ]
        }
      ]
    },
    {
      "cell_type": "code",
      "source": [
        "#copying function along with NumPy\n",
        "f=np.array([1,2,3])\n",
        "g=f\n",
        "print(f)\n",
        "print(g)\n",
        "#below example will make both the list change which is not we want.\n",
        "g[0]=10\n",
        "print(g)\n",
        "print(f)\n",
        "#If we want to make a copy of a list and do the changes\n",
        "h=np.array([1,2,3])\n",
        "i=h.copy()\n",
        "print(i)\n",
        "\n",
        "i[1]=5\n",
        "print(i)\n",
        "print(h)"
      ],
      "metadata": {
        "colab": {
          "base_uri": "https://localhost:8080/"
        },
        "id": "TvuELg1_ayRO",
        "outputId": "eab84788-f9cf-4ff9-9df4-fde28bfa8e59"
      },
      "execution_count": null,
      "outputs": [
        {
          "output_type": "stream",
          "name": "stdout",
          "text": [
            "[1 2 3]\n",
            "[1 2 3]\n",
            "[10  2  3]\n",
            "[10  2  3]\n",
            "[1 2 3]\n",
            "[1 5 3]\n",
            "[1 2 3]\n"
          ]
        }
      ]
    },
    {
      "cell_type": "code",
      "source": [
        "#Mathematics capablity of Numpy\n",
        "j=np.array([1,2,3,4,5])\n",
        "k=np.array([1,3,3,4,5])\n",
        "print(j)\n",
        "\n",
        "print(j+2)\n",
        "print(j-2)\n",
        "print(j*2)\n",
        "print(j/2)\n",
        "print(j+k)\n",
        "\n",
        "#take the sin\n",
        "print(np.sin(j))\n",
        "print(np.cos(j))\n",
        "print(np.sin(k))"
      ],
      "metadata": {
        "colab": {
          "base_uri": "https://localhost:8080/"
        },
        "id": "2AU9H9oMZa7p",
        "outputId": "0782cd31-570e-44c6-cef4-b2318e8e2844"
      },
      "execution_count": null,
      "outputs": [
        {
          "output_type": "stream",
          "name": "stdout",
          "text": [
            "[1 2 3 4 5]\n",
            "[3 4 5 6 7]\n",
            "[-1  0  1  2  3]\n",
            "[ 2  4  6  8 10]\n",
            "[0.5 1.  1.5 2.  2.5]\n",
            "[ 2  5  6  8 10]\n",
            "[ 0.84147098  0.90929743  0.14112001 -0.7568025  -0.95892427]\n",
            "[ 0.54030231 -0.41614684 -0.9899925  -0.65364362  0.28366219]\n",
            "[ 0.84147098  0.14112001  0.14112001 -0.7568025  -0.95892427]\n"
          ]
        }
      ]
    },
    {
      "cell_type": "code",
      "source": [
        "#Linear Algebra\n",
        "alg1=np.ones((2,3))\n",
        "print(alg1)\n",
        "\n",
        "alg2=np.full((3,2),4)\n",
        "print(alg2)\n",
        "\n",
        "#print(alg1*alg2)#this wont work as the matrix has got a function for multiplication\n",
        "alg3 = np.matmul(alg1,alg2)\n",
        "print(alg3)"
      ],
      "metadata": {
        "colab": {
          "base_uri": "https://localhost:8080/"
        },
        "id": "czBkp5mAdRnb",
        "outputId": "48d1ff70-8085-4723-8e15-9ac9fa492982"
      },
      "execution_count": null,
      "outputs": [
        {
          "output_type": "stream",
          "name": "stdout",
          "text": [
            "[[1. 1. 1.]\n",
            " [1. 1. 1.]]\n",
            "[[4 4]\n",
            " [4 4]\n",
            " [4 4]]\n",
            "[[12. 12.]\n",
            " [12. 12.]]\n"
          ]
        }
      ]
    },
    {
      "cell_type": "code",
      "source": [
        "#statistics\n",
        "stats1=np.array([[1,2,3],[4,5,6]])\n",
        "stats2=np.min(stats1)\n",
        "print(stats2)\n",
        "\n",
        "stats1=np.array([[1,2,3],[4,5,6]])\n",
        "stats2=np.max(stats1,axis=0)\n",
        "print(stats2)\n",
        "\n"
      ],
      "metadata": {
        "colab": {
          "base_uri": "https://localhost:8080/"
        },
        "id": "_f5q4tZ_fszM",
        "outputId": "7bb47d72-40d8-48dc-bb13-5c313f04955b"
      },
      "execution_count": null,
      "outputs": [
        {
          "output_type": "stream",
          "name": "stdout",
          "text": [
            "1\n",
            "[4 5 6]\n"
          ]
        }
      ]
    },
    {
      "cell_type": "code",
      "source": [
        "#Reorganising array\n",
        "reorg = np.array([[1,2,3,4],[5,6,7,8]])\n",
        "print(reorg)\n",
        "print(reorg.shape)\n",
        "reorg1=reorg.reshape((4,2))\n",
        "print(reorg1)\n"
      ],
      "metadata": {
        "colab": {
          "base_uri": "https://localhost:8080/"
        },
        "id": "vCnDMN_7i7ca",
        "outputId": "ed433915-45c1-4916-e83c-e0bb20e86537"
      },
      "execution_count": null,
      "outputs": [
        {
          "output_type": "stream",
          "name": "stdout",
          "text": [
            "[[1 2 3 4]\n",
            " [5 6 7 8]]\n",
            "(2, 4)\n",
            "[[1 2]\n",
            " [3 4]\n",
            " [5 6]\n",
            " [7 8]]\n"
          ]
        }
      ]
    },
    {
      "cell_type": "code",
      "source": [
        "#vertically stacking vectors\n",
        "ver1=np.array([1,2,3,4,5])\n",
        "ver2=np.array([6,7,8,9,0])\n",
        "ver3=np.vstack([ver1,ver2,ver2,ver1])\n",
        "print(ver3)\n",
        "\n",
        "#Horixontal stacking\n",
        "np.hstack"
      ],
      "metadata": {
        "colab": {
          "base_uri": "https://localhost:8080/"
        },
        "id": "MDW-DjqXk_rW",
        "outputId": "bb34ad29-cc75-4a15-e619-039af1078080"
      },
      "execution_count": null,
      "outputs": [
        {
          "output_type": "stream",
          "name": "stdout",
          "text": [
            "[[1 2 3 4 5]\n",
            " [6 7 8 9 0]\n",
            " [6 7 8 9 0]\n",
            " [1 2 3 4 5]]\n"
          ]
        }
      ]
    },
    {
      "cell_type": "code",
      "source": [
        "#Miscellaneous\n",
        "#local data from file\n",
        "np.genfromtxt('filename',delimiter=',')"
      ],
      "metadata": {
        "id": "wAVLJ13klm3u",
        "colab": {
          "base_uri": "https://localhost:8080/",
          "height": 200
        },
        "outputId": "bbfbb60d-97bd-4147-c29d-bc99b352e5fb"
      },
      "execution_count": 1,
      "outputs": [
        {
          "output_type": "error",
          "ename": "NameError",
          "evalue": "ignored",
          "traceback": [
            "\u001b[0;31m---------------------------------------------------------------------------\u001b[0m",
            "\u001b[0;31mNameError\u001b[0m                                 Traceback (most recent call last)",
            "\u001b[0;32m<ipython-input-1-90d4935f4648>\u001b[0m in \u001b[0;36m<module>\u001b[0;34m\u001b[0m\n\u001b[1;32m      1\u001b[0m \u001b[0;31m#Miscellaneous\u001b[0m\u001b[0;34m\u001b[0m\u001b[0;34m\u001b[0m\u001b[0;34m\u001b[0m\u001b[0m\n\u001b[1;32m      2\u001b[0m \u001b[0;31m#local data from file\u001b[0m\u001b[0;34m\u001b[0m\u001b[0;34m\u001b[0m\u001b[0;34m\u001b[0m\u001b[0m\n\u001b[0;32m----> 3\u001b[0;31m \u001b[0mnp\u001b[0m\u001b[0;34m.\u001b[0m\u001b[0mgenfromtxt\u001b[0m\u001b[0;34m(\u001b[0m\u001b[0;34m'filename'\u001b[0m\u001b[0;34m,\u001b[0m\u001b[0mdelimiter\u001b[0m\u001b[0;34m=\u001b[0m\u001b[0;34m','\u001b[0m\u001b[0;34m)\u001b[0m\u001b[0;34m\u001b[0m\u001b[0;34m\u001b[0m\u001b[0m\n\u001b[0m",
            "\u001b[0;31mNameError\u001b[0m: name 'np' is not defined"
          ]
        }
      ]
    },
    {
      "cell_type": "code",
      "source": [
        "#you can index with a list in numpy\n",
        "index=np.array([1,2,3,4,5,6,7,8])\n",
        "print(index[[2,3,4]])\n",
        "\n",
        "\n"
      ],
      "metadata": {
        "colab": {
          "base_uri": "https://localhost:8080/",
          "height": 235
        },
        "id": "rj87n17omUTL",
        "outputId": "261f0990-94a1-4525-dde1-d260e21c002c"
      },
      "execution_count": 2,
      "outputs": [
        {
          "output_type": "error",
          "ename": "NameError",
          "evalue": "ignored",
          "traceback": [
            "\u001b[0;31m---------------------------------------------------------------------------\u001b[0m",
            "\u001b[0;31mNameError\u001b[0m                                 Traceback (most recent call last)",
            "\u001b[0;32m<ipython-input-2-81b9ce40ad4f>\u001b[0m in \u001b[0;36m<module>\u001b[0;34m\u001b[0m\n\u001b[1;32m      1\u001b[0m \u001b[0;31m#you can index with a list in numpy\u001b[0m\u001b[0;34m\u001b[0m\u001b[0;34m\u001b[0m\u001b[0;34m\u001b[0m\u001b[0m\n\u001b[0;32m----> 2\u001b[0;31m \u001b[0mindex\u001b[0m\u001b[0;34m=\u001b[0m\u001b[0mnp\u001b[0m\u001b[0;34m.\u001b[0m\u001b[0marray\u001b[0m\u001b[0;34m(\u001b[0m\u001b[0;34m[\u001b[0m\u001b[0;36m1\u001b[0m\u001b[0;34m,\u001b[0m\u001b[0;36m2\u001b[0m\u001b[0;34m,\u001b[0m\u001b[0;36m3\u001b[0m\u001b[0;34m,\u001b[0m\u001b[0;36m4\u001b[0m\u001b[0;34m,\u001b[0m\u001b[0;36m5\u001b[0m\u001b[0;34m,\u001b[0m\u001b[0;36m6\u001b[0m\u001b[0;34m,\u001b[0m\u001b[0;36m7\u001b[0m\u001b[0;34m,\u001b[0m\u001b[0;36m8\u001b[0m\u001b[0;34m]\u001b[0m\u001b[0;34m)\u001b[0m\u001b[0;34m\u001b[0m\u001b[0;34m\u001b[0m\u001b[0m\n\u001b[0m\u001b[1;32m      3\u001b[0m \u001b[0mprint\u001b[0m\u001b[0;34m(\u001b[0m\u001b[0mindex\u001b[0m\u001b[0;34m[\u001b[0m\u001b[0;34m[\u001b[0m\u001b[0;36m2\u001b[0m\u001b[0;34m,\u001b[0m\u001b[0;36m3\u001b[0m\u001b[0;34m,\u001b[0m\u001b[0;36m4\u001b[0m\u001b[0;34m]\u001b[0m\u001b[0;34m]\u001b[0m\u001b[0;34m)\u001b[0m\u001b[0;34m\u001b[0m\u001b[0;34m\u001b[0m\u001b[0m\n\u001b[1;32m      4\u001b[0m \u001b[0;34m\u001b[0m\u001b[0m\n\u001b[1;32m      5\u001b[0m \u001b[0;34m\u001b[0m\u001b[0m\n",
            "\u001b[0;31mNameError\u001b[0m: name 'np' is not defined"
          ]
        }
      ]
    },
    {
      "cell_type": "code",
      "source": [
        "#Joining arrays\n",
        "a=np.array([[1,2],[3,4]])\n",
        "print('first array',a)\n",
        "b=np.array([[5,6],[7,8]])\n",
        "print('second array',b)\n",
        "print('joining the arrays along axis 1')\n",
        "print(np.concatenate((a,b),axis=1))\n",
        "print('joining the arrays along axis 0')\n",
        "print(np.concatenate((a,b),axis=0))"
      ],
      "metadata": {
        "colab": {
          "base_uri": "https://localhost:8080/"
        },
        "id": "aL1WtpskiHgu",
        "outputId": "89a0c822-5b36-4d6e-d1d8-96d0a9519f5a"
      },
      "execution_count": 15,
      "outputs": [
        {
          "output_type": "stream",
          "name": "stdout",
          "text": [
            "first array [[1 2]\n",
            " [3 4]]\n",
            "second array [[5 6]\n",
            " [7 8]]\n",
            "joining the arrays along axis 1\n",
            "[[1 2 5 6]\n",
            " [3 4 7 8]]\n",
            "joining the arrays along axis 0\n",
            "[[1 2]\n",
            " [3 4]\n",
            " [5 6]\n",
            " [7 8]]\n"
          ]
        }
      ]
    }
  ]
}