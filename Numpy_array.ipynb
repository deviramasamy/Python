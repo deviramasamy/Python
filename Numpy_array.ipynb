{
  "nbformat": 4,
  "nbformat_minor": 0,
  "metadata": {
    "colab": {
      "provenance": [],
      "authorship_tag": "ABX9TyPRBTSpFWKn4LPcC2iBUqbj",
      "include_colab_link": true
    },
    "kernelspec": {
      "name": "python3",
      "display_name": "Python 3"
    },
    "language_info": {
      "name": "python"
    }
  },
  "cells": [
    {
      "cell_type": "markdown",
      "metadata": {
        "id": "view-in-github",
        "colab_type": "text"
      },
      "source": [
        "<a href=\"https://colab.research.google.com/github/deviramasamy/Python/blob/main/Numpy_array.ipynb\" target=\"_parent\"><img src=\"https://colab.research.google.com/assets/colab-badge.svg\" alt=\"Open In Colab\"/></a>"
      ]
    },
    {
      "cell_type": "markdown",
      "source": [
        "**Numpy array Vs Python List**\n",
        "\n",
        "Why Numpy array:-Numerical Python. Numpy array is widely used object in Numpy Library,which is similar to list. Array is homegeoneous wheareas list is heterogeneous. Every array is a list but not every list is a array.\n",
        "\n",
        "It is used for scientific calculation and it is a library. Basic for other major libraries like pandas.\n",
        "\n",
        "1.   Fast-optimized-Less bytes of memory\n",
        "2.   No type checking when iterating through object.\n",
        "2.   less memory and speed\n",
        "3.   convinient-lot of functionalities\n",
        "\n",
        "uses continuous memory.\n",
        "\n",
        "List: can do insertion, deletion,appending, concatenation etc\n",
        "Numpy-Lot more than list\n",
        "\n",
        "**Applications in NumPy** \n",
        "\n",
        "Matlab replacement\n",
        "plotting\n",
        "backend\n",
        "machine learning\n",
        "\n",
        "\n",
        "\n",
        "Numpy-uses fixed type. eg: a number in a matirx\n",
        "\n",
        "5 requires lot more space in list vecause list stores value as size,reference count,object type and object value whereas NumPy stores only in a memory space of 4 bytes\n",
        "\n",
        "\n",
        "\n",
        "Import numpy as np"
      ],
      "metadata": {
        "id": "Df5vYW6_d4G7"
      }
    },
    {
      "cell_type": "code",
      "execution_count": 2,
      "metadata": {
        "colab": {
          "base_uri": "https://localhost:8080/"
        },
        "id": "bGgrXTgxdzvB",
        "outputId": "14a9bce2-10c2-40ad-e759-38831350f101"
      },
      "outputs": [
        {
          "output_type": "stream",
          "name": "stdout",
          "text": [
            "[1 2 3]\n",
            "[[ 9  8  7]\n",
            " [11  5  6]]\n"
          ]
        }
      ],
      "source": [
        "#printing a numpy array\n",
        "import numpy as np\n",
        "a=np.array([1,2,3],dtype='int16')\n",
        "print(a)\n",
        "#2d array\n",
        "z = np.array([[9,8,7],[11,5,6]])\n",
        "print(z)\n"
      ]
    },
    {
      "cell_type": "code",
      "source": [
        "#get dimension - ndim\n",
        "print(a.ndim)\n",
        "print(z.ndim)\n",
        "#get shape\n",
        "print(a.shape)\n",
        "#get type\n",
        "print(a.dtype)\n",
        "#get itemsize-16 is 2 bytes, 32 is 8 bytes\n",
        "print(a.itemsize)\n",
        "#get totalsize\n",
        "print(a.nbytes)"
      ],
      "metadata": {
        "colab": {
          "base_uri": "https://localhost:8080/"
        },
        "id": "U6o0BwvLDUgY",
        "outputId": "07b8ae06-ddae-40ca-95c3-5b9abffc3013"
      },
      "execution_count": null,
      "outputs": [
        {
          "output_type": "stream",
          "name": "stdout",
          "text": [
            "1\n",
            "2\n",
            "(3,)\n",
            "int16\n",
            "2\n",
            "6\n"
          ]
        }
      ]
    },
    {
      "cell_type": "code",
      "source": [
        "#to find out why numpy array\n",
        "import time\n",
        "import sys\n",
        "b=range(1000)\n",
        "print(sys.getsizeof(5),len(b))\n",
        "print(sys.getsizeof(5)*len(b))\n",
        "\n",
        "#numpy\n",
        "c=np.arange(1000)\n",
        "print(c.size*c.itemsize)\n",
        "\n",
        "#speed\n",
        "size =100000\n",
        "L1=range(size)\n",
        "L2=range(size)\n",
        "a1=np.arange(size)\n",
        "a2=np.arange(size)\n"
      ],
      "metadata": {
        "colab": {
          "base_uri": "https://localhost:8080/"
        },
        "id": "5Guyht2bfbER",
        "outputId": "8139621c-c88d-48bd-e106-6a98afe213a3"
      },
      "execution_count": null,
      "outputs": [
        {
          "output_type": "stream",
          "name": "stdout",
          "text": [
            "28 1000\n",
            "28000\n",
            "8000\n"
          ]
        }
      ]
    },
    {
      "cell_type": "code",
      "source": [
        "#accessing/changing specific elements, rows, columns etc.\n",
        "c = np.array([[1,2,3,4,5,6,7],[8,9,10,11,12,13,14]])\n",
        "print(c)\n",
        "print(c.shape)\n",
        "#get a specific element [r,c]\n",
        "print(c[1,5])  \n",
        "print(c[0,4])\n",
        "#get a specific row\n",
        "print(c[0,:])\n",
        "#get a specific column\n",
        "print(c[:,2])\n",
        "#get a little more fancy [startindex,endindex,stepsize]\n",
        "print(c[1,1:6:3])\n",
        "#to change a value in the list\n",
        "c[1,5] =20\n",
        "print(c)\n"
      ],
      "metadata": {
        "colab": {
          "base_uri": "https://localhost:8080/"
        },
        "id": "zQRbtSCCEucf",
        "outputId": "a7cffc55-a57d-4191-fa0c-90bacd24fd33"
      },
      "execution_count": null,
      "outputs": [
        {
          "output_type": "stream",
          "name": "stdout",
          "text": [
            "[[ 1  2  3  4  5  6  7]\n",
            " [ 8  9 10 11 12 13 14]]\n",
            "(2, 7)\n",
            "13\n",
            "5\n",
            "[1 2 3 4 5 6 7]\n",
            "[ 3 10]\n",
            "[ 9 12]\n",
            "[[ 1  2  3  4  5  6  7]\n",
            " [ 8  9 10 11 12 20 14]]\n"
          ]
        }
      ]
    },
    {
      "cell_type": "code",
      "source": [
        "#3d example\n",
        "d=np.array([[[1,2],[3,4],[5,6],[7,8]]])\n",
        "print(d)\n",
        "#specific element-work outside in\n",
        "print(d[0,1,1])\n"
      ],
      "metadata": {
        "colab": {
          "base_uri": "https://localhost:8080/"
        },
        "id": "rh-4dN0yJ6KL",
        "outputId": "61f5f4cf-7d31-4752-f8aa-6dc74a1ea252"
      },
      "execution_count": null,
      "outputs": [
        {
          "output_type": "stream",
          "name": "stdout",
          "text": [
            "[[[1 2]\n",
            "  [3 4]\n",
            "  [5 6]\n",
            "  [7 8]]]\n",
            "4\n"
          ]
        }
      ]
    },
    {
      "cell_type": "code",
      "source": [
        "#Initialising different types of array\n",
        "#all 0's matrix\n",
        "np.zeros((2,3,3,2))\n",
        "#all 1's matrix\n",
        "np.ones(())\n",
        "#any other number (full_like)\n",
        "np.full_like(a,4)\n",
        "#random decimal\n",
        "np.random.rand(4,2,3)\n",
        "#random integer\n",
        "np.random.randint(4,7,size =(3,3))\n"
      ],
      "metadata": {
        "colab": {
          "base_uri": "https://localhost:8080/"
        },
        "id": "HLef1cq_KlpH",
        "outputId": "389b142a-a51e-4a7e-bf0c-38b8514983f3"
      },
      "execution_count": null,
      "outputs": [
        {
          "output_type": "execute_result",
          "data": {
            "text/plain": [
              "array([[5, 4, 4],\n",
              "       [5, 6, 4],\n",
              "       [6, 4, 4]])"
            ]
          },
          "metadata": {},
          "execution_count": 67
        }
      ]
    },
    {
      "cell_type": "code",
      "source": [
        "#creating a matrix\n",
        "output = np.ones((5,5))\n",
        "print(output)\n",
        "\n",
        "e=np.zeros((4,4))\n",
        "e[1,1]=9\n",
        "print(e)\n",
        "\n",
        "output[1:5,1:5]=e\n",
        "print(output)"
      ],
      "metadata": {
        "colab": {
          "base_uri": "https://localhost:8080/"
        },
        "id": "7tu4p5qjOhGM",
        "outputId": "a6bdab1b-21bd-44dc-850f-8c16576cdc38"
      },
      "execution_count": null,
      "outputs": [
        {
          "output_type": "stream",
          "name": "stdout",
          "text": [
            "[[1. 1. 1. 1. 1.]\n",
            " [1. 1. 1. 1. 1.]\n",
            " [1. 1. 1. 1. 1.]\n",
            " [1. 1. 1. 1. 1.]\n",
            " [1. 1. 1. 1. 1.]]\n",
            "[[0. 0. 0. 0.]\n",
            " [0. 9. 0. 0.]\n",
            " [0. 0. 0. 0.]\n",
            " [0. 0. 0. 0.]]\n",
            "[[1. 1. 1. 1. 1.]\n",
            " [1. 0. 0. 0. 0.]\n",
            " [1. 0. 9. 0. 0.]\n",
            " [1. 0. 0. 0. 0.]\n",
            " [1. 0. 0. 0. 0.]]\n"
          ]
        }
      ]
    },
    {
      "cell_type": "code",
      "source": [
        "#copying function along with NumPy\n",
        "f=np.array([1,2,3])\n",
        "g=f\n",
        "print(f)\n",
        "print(g)\n",
        "#below example will make both the list change which is not we want.\n",
        "g[0]=10\n",
        "print(g)\n",
        "print(f)\n",
        "#If we want to make a copy of a list and do the changes\n",
        "h=np.array([1,2,3])\n",
        "i=h.copy()\n",
        "print(i)\n",
        "\n",
        "i[1]=5\n",
        "print(i)\n",
        "print(h)"
      ],
      "metadata": {
        "colab": {
          "base_uri": "https://localhost:8080/"
        },
        "id": "TvuELg1_ayRO",
        "outputId": "eab84788-f9cf-4ff9-9df4-fde28bfa8e59"
      },
      "execution_count": null,
      "outputs": [
        {
          "output_type": "stream",
          "name": "stdout",
          "text": [
            "[1 2 3]\n",
            "[1 2 3]\n",
            "[10  2  3]\n",
            "[10  2  3]\n",
            "[1 2 3]\n",
            "[1 5 3]\n",
            "[1 2 3]\n"
          ]
        }
      ]
    },
    {
      "cell_type": "code",
      "source": [
        "#Mathematics capablity of Numpy\n",
        "j=np.array([1,2,3,4,5])\n",
        "k=np.array([1,3,3,4,5])\n",
        "print(j)\n",
        "\n",
        "print(j+2)\n",
        "print(j-2)\n",
        "print(j*2)\n",
        "print(j/2)\n",
        "print(j+k)\n",
        "\n",
        "#take the sin\n",
        "print(np.sin(j))\n",
        "print(np.cos(j))\n",
        "print(np.sin(k))"
      ],
      "metadata": {
        "colab": {
          "base_uri": "https://localhost:8080/"
        },
        "id": "2AU9H9oMZa7p",
        "outputId": "0782cd31-570e-44c6-cef4-b2318e8e2844"
      },
      "execution_count": null,
      "outputs": [
        {
          "output_type": "stream",
          "name": "stdout",
          "text": [
            "[1 2 3 4 5]\n",
            "[3 4 5 6 7]\n",
            "[-1  0  1  2  3]\n",
            "[ 2  4  6  8 10]\n",
            "[0.5 1.  1.5 2.  2.5]\n",
            "[ 2  5  6  8 10]\n",
            "[ 0.84147098  0.90929743  0.14112001 -0.7568025  -0.95892427]\n",
            "[ 0.54030231 -0.41614684 -0.9899925  -0.65364362  0.28366219]\n",
            "[ 0.84147098  0.14112001  0.14112001 -0.7568025  -0.95892427]\n"
          ]
        }
      ]
    },
    {
      "cell_type": "code",
      "source": [
        "#Linear Algebra\n",
        "alg1=np.ones((2,3))\n",
        "print(alg1)\n",
        "\n",
        "alg2=np.full((3,2),4)\n",
        "print(alg2)\n",
        "\n",
        "#print(alg1*alg2)#this wont work as the matrix has got a function for multiplication\n",
        "alg3 = np.matmul(alg1,alg2)\n",
        "print(alg3)"
      ],
      "metadata": {
        "colab": {
          "base_uri": "https://localhost:8080/"
        },
        "id": "czBkp5mAdRnb",
        "outputId": "48d1ff70-8085-4723-8e15-9ac9fa492982"
      },
      "execution_count": null,
      "outputs": [
        {
          "output_type": "stream",
          "name": "stdout",
          "text": [
            "[[1. 1. 1.]\n",
            " [1. 1. 1.]]\n",
            "[[4 4]\n",
            " [4 4]\n",
            " [4 4]]\n",
            "[[12. 12.]\n",
            " [12. 12.]]\n"
          ]
        }
      ]
    },
    {
      "cell_type": "code",
      "source": [
        "#statistics\n",
        "stats1=np.array([[1,2,3],[4,5,6]])\n",
        "stats2=np.min(stats1)\n",
        "print(stats2)\n",
        "\n",
        "stats1=np.array([[1,2,3],[4,5,6]])\n",
        "stats2=np.max(stats1,axis=0)\n",
        "print(stats2)\n",
        "\n"
      ],
      "metadata": {
        "colab": {
          "base_uri": "https://localhost:8080/"
        },
        "id": "_f5q4tZ_fszM",
        "outputId": "7bb47d72-40d8-48dc-bb13-5c313f04955b"
      },
      "execution_count": null,
      "outputs": [
        {
          "output_type": "stream",
          "name": "stdout",
          "text": [
            "1\n",
            "[4 5 6]\n"
          ]
        }
      ]
    },
    {
      "cell_type": "code",
      "source": [
        "#Reorganising array\n",
        "reorg = np.array([[1,2,3,4],[5,6,7,8]])\n",
        "print(reorg)\n",
        "print(reorg.shape)\n",
        "reorg1=reorg.reshape((4,2))\n",
        "print(reorg1)\n"
      ],
      "metadata": {
        "colab": {
          "base_uri": "https://localhost:8080/"
        },
        "id": "vCnDMN_7i7ca",
        "outputId": "ed433915-45c1-4916-e83c-e0bb20e86537"
      },
      "execution_count": null,
      "outputs": [
        {
          "output_type": "stream",
          "name": "stdout",
          "text": [
            "[[1 2 3 4]\n",
            " [5 6 7 8]]\n",
            "(2, 4)\n",
            "[[1 2]\n",
            " [3 4]\n",
            " [5 6]\n",
            " [7 8]]\n"
          ]
        }
      ]
    },
    {
      "cell_type": "code",
      "source": [
        "#vertically stacking vectors\n",
        "ver1=np.array([1,2,3,4,5])\n",
        "ver2=np.array([6,7,8,9,0])\n",
        "ver3=np.vstack([ver1,ver2,ver2,ver1])\n",
        "print(ver3)\n",
        "\n",
        "#Horizontal stacking\n",
        "np.hstack"
      ],
      "metadata": {
        "colab": {
          "base_uri": "https://localhost:8080/"
        },
        "id": "MDW-DjqXk_rW",
        "outputId": "168560a0-0d53-4d8f-ddf8-4860bbc0c2b9"
      },
      "execution_count": 41,
      "outputs": [
        {
          "output_type": "stream",
          "name": "stdout",
          "text": [
            "[[1 2 3 4 5]\n",
            " [6 7 8 9 0]\n",
            " [6 7 8 9 0]\n",
            " [1 2 3 4 5]]\n"
          ]
        },
        {
          "output_type": "execute_result",
          "data": {
            "text/plain": [
              "<function numpy.hstack(tup)>"
            ]
          },
          "metadata": {},
          "execution_count": 41
        }
      ]
    },
    {
      "cell_type": "code",
      "source": [
        "#Miscellaneous\n",
        "#local data from file\n",
        "np.genfromtxt('/content/Bigmarket.csv',delimiter=',')"
      ],
      "metadata": {
        "id": "wAVLJ13klm3u",
        "colab": {
          "base_uri": "https://localhost:8080/"
        },
        "outputId": "a45e67e1-7649-4ca9-e9ab-dc2af00646dd"
      },
      "execution_count": 44,
      "outputs": [
        {
          "output_type": "execute_result",
          "data": {
            "text/plain": [
              "array([[   nan,    nan,    nan],\n",
              "       [   nan,    nan, 31037.],\n",
              "       [   nan,    nan, 20722.],\n",
              "       [   nan,    nan, 24557.],\n",
              "       [   nan,    nan, 34649.],\n",
              "       [   nan,    nan, 29795.],\n",
              "       [   nan,    nan, 29133.],\n",
              "       [   nan,    nan, 22695.],\n",
              "       [   nan,    nan, 28312.],\n",
              "       [   nan,    nan, 31454.],\n",
              "       [   nan,    nan, 46267.],\n",
              "       [   nan,    nan, 32961.],\n",
              "       [   nan,    nan, 26451.],\n",
              "       [   nan,    nan, 47814.],\n",
              "       [   nan,    nan, 36069.],\n",
              "       [   nan,    nan, 31874.],\n",
              "       [   nan,    nan, 27253.],\n",
              "       [   nan,    nan, 40241.],\n",
              "       [   nan,    nan, 47488.],\n",
              "       [   nan,    nan, 25432.],\n",
              "       [   nan,    nan, 33880.],\n",
              "       [   nan,    nan, 29487.],\n",
              "       [   nan,    nan, 40001.],\n",
              "       [   nan,    nan, 46482.],\n",
              "       [   nan,    nan, 46313.],\n",
              "       [   nan,    nan, 47594.]])"
            ]
          },
          "metadata": {},
          "execution_count": 44
        }
      ]
    },
    {
      "cell_type": "code",
      "source": [
        "#you can index with a list in numpy\n",
        "index=np.array([1,2,3,4,5,6,7,8])\n",
        "print(index[[2,3,4]])\n",
        "\n",
        "\n"
      ],
      "metadata": {
        "colab": {
          "base_uri": "https://localhost:8080/"
        },
        "id": "rj87n17omUTL",
        "outputId": "6db40b4c-bee2-4305-d99a-21be4a72d34c"
      },
      "execution_count": 42,
      "outputs": [
        {
          "output_type": "stream",
          "name": "stdout",
          "text": [
            "[3 4 5]\n"
          ]
        }
      ]
    },
    {
      "cell_type": "code",
      "source": [
        "#Joining arrays\n",
        "a=np.array([[1,2],[3,4]])\n",
        "print('first array',a)\n",
        "b=np.array([[5,6],[7,8]])\n",
        "print('second array',b)\n",
        "print('joining the arrays along axis 1')\n",
        "print(np.concatenate((a,b),axis=1))\n",
        "print('joining the arrays along axis 0')\n",
        "print(np.concatenate((a,b),axis=0))\n",
        "\n",
        "#String Functions\n",
        "#concatenation with strings\n",
        "print(np.char.add([\"hello\",\"hi\"],[\"abc\",\"def\"]))\n",
        "print(np.char.multiply(\"hello\",3))\n"
      ],
      "metadata": {
        "colab": {
          "base_uri": "https://localhost:8080/"
        },
        "id": "aL1WtpskiHgu",
        "outputId": "81a802e7-dce7-4303-aa07-8cfe7c2d6941"
      },
      "execution_count": 45,
      "outputs": [
        {
          "output_type": "stream",
          "name": "stdout",
          "text": [
            "first array [[1 2]\n",
            " [3 4]]\n",
            "second array [[5 6]\n",
            " [7 8]]\n",
            "joining the arrays along axis 1\n",
            "[[1 2 5 6]\n",
            " [3 4 7 8]]\n",
            "joining the arrays along axis 0\n",
            "[[1 2]\n",
            " [3 4]\n",
            " [5 6]\n",
            " [7 8]]\n",
            "['helloabc' 'hidef']\n",
            "hellohellohello\n"
          ]
        }
      ]
    },
    {
      "cell_type": "code",
      "source": [
        "#Other fill function\n",
        "#fill function\n",
        "print(np.char.center(\"hello\",20,fillchar='-'))\n",
        "#Capitalise-Capitalises the first character\n",
        "print(np.char.capitalize(\"hello world\"))\n",
        "#title-capitalises all the first character of the words\n",
        "print(np.char.title(\"How r u doing\"))\n",
        "#lowercase\n",
        "print(np.char.lower(\"Hello world\"))\n",
        "print(np.char.lower([\"Hello\", \"World\"]))\n",
        "#uppercase\n",
        "print(np.char.upper(\"Hello world\"))\n",
        "print(np.char.upper([\"Hello\", \"World\"]))\n",
        "#split function\n",
        "print(np.char.split(\"Hello world\"))\n",
        "print(np.char.splitlines(\"Hello\\n world\"))\n",
        "#strip function-strips the last letter in all the items in the array.\n",
        "print(np.char.strip([\"Helloh\", \"worldh\"],'h'))\n",
        "#replace function\n",
        "print(np.char.replace('He is a good man','is','was'))\n",
        "print(np.char.replace('He is a good man','good','bad'))\n",
        "#join\n",
        "print(np.char.join([':','-'],['dmy','dmy']))"
      ],
      "metadata": {
        "colab": {
          "base_uri": "https://localhost:8080/"
        },
        "id": "zsZN96zudDKr",
        "outputId": "4c63a97b-2e2b-419f-c719-a3a7ed5d5817"
      },
      "execution_count": 47,
      "outputs": [
        {
          "output_type": "stream",
          "name": "stdout",
          "text": [
            "-------hello--------\n",
            "Hello world\n",
            "How R U Doing\n",
            "hello world\n",
            "['hello' 'world']\n",
            "HELLO WORLD\n",
            "['HELLO' 'WORLD']\n",
            "['Hello', 'world']\n",
            "['Hello', ' world']\n",
            "['Hello' 'world']\n",
            "He was a good man\n",
            "He is a bad man\n",
            "['d:m:y' 'd-m-y']\n"
          ]
        }
      ]
    },
    {
      "cell_type": "code",
      "source": [
        "#Array Manipulation\n",
        "#changing shape\n",
        "a= np.arange(9)\n",
        "print('The original array', a)\n",
        "\n",
        "b=a.reshape(3,3)\n",
        "print('The modified array', b)\n",
        "#flatten array \n",
        "print(b.flatten())\n",
        "#Fortran\n",
        "print(b.flatten(order='F'))\n",
        "print(b.flatten(order='C'))\n",
        "print(b.flatten(order='A'))\n",
        "#reshape\n",
        "a=np.arange(12)\n",
        "b=a.reshape(3,4)\n",
        "print(b)\n",
        "#transpose\n",
        "print(np.transpose(a))"
      ],
      "metadata": {
        "colab": {
          "base_uri": "https://localhost:8080/"
        },
        "id": "KvdbGLO8f6UL",
        "outputId": "b8ce962d-5253-4b31-c6d4-b231458ee89d"
      },
      "execution_count": 68,
      "outputs": [
        {
          "output_type": "stream",
          "name": "stdout",
          "text": [
            "The original array [0 1 2 3 4 5 6 7 8]\n",
            "The modified array [[0 1 2]\n",
            " [3 4 5]\n",
            " [6 7 8]]\n",
            "[0 1 2 3 4 5 6 7 8]\n",
            "[0 3 6 1 4 7 2 5 8]\n",
            "[0 1 2 3 4 5 6 7 8]\n",
            "[0 1 2 3 4 5 6 7 8]\n",
            "[[ 0  1  2  3]\n",
            " [ 4  5  6  7]\n",
            " [ 8  9 10 11]]\n",
            "[ 0  1  2  3  4  5  6  7  8  9 10 11]\n"
          ]
        }
      ]
    },
    {
      "cell_type": "code",
      "source": [
        "#Numpy Arithmetic Operations\n",
        "a=np.arange(9).reshape(3,3)\n",
        "print(a)\n",
        "b=np.array([10,100,10])\n",
        "print(b)\n",
        "\n",
        "print(np.add(a,b))\n",
        "print(np.subtract(a,b))\n",
        "print(np.multiply(a,b))\n",
        "print(np.divide(a,b))\n",
        "\n"
      ],
      "metadata": {
        "colab": {
          "base_uri": "https://localhost:8080/"
        },
        "id": "5Yu3T99XkZ0Y",
        "outputId": "40226671-349b-41f3-8884-a3b2608b2d70"
      },
      "execution_count": 76,
      "outputs": [
        {
          "output_type": "stream",
          "name": "stdout",
          "text": [
            "[[0 1 2]\n",
            " [3 4 5]\n",
            " [6 7 8]]\n",
            "[ 10 100  10]\n",
            "[[ 10 101  12]\n",
            " [ 13 104  15]\n",
            " [ 16 107  18]]\n",
            "[[-10 -99  -8]\n",
            " [ -7 -96  -5]\n",
            " [ -4 -93  -2]]\n",
            "[[  0 100  20]\n",
            " [ 30 400  50]\n",
            " [ 60 700  80]]\n",
            "[[0.   0.01 0.2 ]\n",
            " [0.3  0.04 0.5 ]\n",
            " [0.6  0.07 0.8 ]]\n"
          ]
        }
      ]
    },
    {
      "cell_type": "code",
      "source": [
        "#Slicing array\n",
        "a=np.arange(20)\n",
        "print(a)\n",
        "print(a[4:])\n",
        "print(a[:5])\n",
        "print(a[::-1])\n",
        "print(a[:])\n",
        "#start,stop, step\n",
        "s=slice(2,18,2)\n",
        "print(a[s])"
      ],
      "metadata": {
        "colab": {
          "base_uri": "https://localhost:8080/"
        },
        "id": "M4_Z4SrnlbVL",
        "outputId": "8886c022-a758-4f3e-ee73-8630cd909956"
      },
      "execution_count": 84,
      "outputs": [
        {
          "output_type": "stream",
          "name": "stdout",
          "text": [
            "[ 0  1  2  3  4  5  6  7  8  9 10 11 12 13 14 15 16 17 18 19]\n",
            "[ 4  5  6  7  8  9 10 11 12 13 14 15 16 17 18 19]\n",
            "[0 1 2 3 4]\n",
            "[19 18 17 16 15 14 13 12 11 10  9  8  7  6  5  4  3  2  1  0]\n",
            "[ 0  1  2  3  4  5  6  7  8  9 10 11 12 13 14 15 16 17 18 19]\n",
            "[ 2  4  6  8 10 12 14 16]\n"
          ]
        }
      ]
    },
    {
      "cell_type": "code",
      "source": [
        "#Iterating over array\n"
      ],
      "metadata": {
        "id": "lO0nTLBSl_1o"
      },
      "execution_count": null,
      "outputs": []
    }
  ]
}