{
  "nbformat": 4,
  "nbformat_minor": 0,
  "metadata": {
    "colab": {
      "provenance": [],
      "authorship_tag": "ABX9TyMywJSAcDIkmFnyevMOJCwk",
      "include_colab_link": true
    },
    "kernelspec": {
      "name": "python3",
      "display_name": "Python 3"
    },
    "language_info": {
      "name": "python"
    }
  },
  "cells": [
    {
      "cell_type": "markdown",
      "metadata": {
        "id": "view-in-github",
        "colab_type": "text"
      },
      "source": [
        "<a href=\"https://colab.research.google.com/github/deviramasamy/Python/blob/main/Numpy_array.ipynb\" target=\"_parent\"><img src=\"https://colab.research.google.com/assets/colab-badge.svg\" alt=\"Open In Colab\"/></a>"
      ]
    },
    {
      "cell_type": "markdown",
      "source": [
        "Numpy array Vs Python List\n",
        "\n",
        "Why Numpy array:\n",
        "\n",
        "1.   Fast-optimized\n",
        "2.   less memory and speed\n",
        "3.   convinient-lot of functionalities\n",
        "\n",
        "\n",
        "\n",
        "Import numpy as np"
      ],
      "metadata": {
        "id": "Df5vYW6_d4G7"
      }
    },
    {
      "cell_type": "code",
      "execution_count": 6,
      "metadata": {
        "colab": {
          "base_uri": "https://localhost:8080/"
        },
        "id": "bGgrXTgxdzvB",
        "outputId": "2657e976-f9e0-4e7e-834e-539e92c4de5d"
      },
      "outputs": [
        {
          "output_type": "stream",
          "name": "stdout",
          "text": [
            "[1 2 3]\n"
          ]
        },
        {
          "output_type": "execute_result",
          "data": {
            "text/plain": [
              "3"
            ]
          },
          "metadata": {},
          "execution_count": 6
        }
      ],
      "source": [
        "#printing a numpy array\n",
        "import numpy as np\n",
        "a=np.array([1,2,3])\n",
        "print(a)\n",
        "\n",
        "a[0]\n",
        "a[2]\n"
      ]
    },
    {
      "cell_type": "code",
      "source": [
        "#to find out why numpy array\n",
        "import time\n",
        "import sys\n",
        "b=range(1000)\n",
        "print(sys.getsizeof(5),len(b))\n",
        "print(sys.getsizeof(5)*len(b))\n",
        "\n",
        "#numpy\n",
        "c=np.arange(1000)\n",
        "print(c.size*c.itemsize)\n",
        "\n",
        "#speed\n",
        "size =100000\n",
        "L1=range(size)\n",
        "L2=range(size)\n",
        "a1=np.arange(size)\n",
        "a2=np.arange(size)\n"
      ],
      "metadata": {
        "colab": {
          "base_uri": "https://localhost:8080/"
        },
        "id": "5Guyht2bfbER",
        "outputId": "7662d108-387f-4967-aff0-56d6d1739c6d"
      },
      "execution_count": 13,
      "outputs": [
        {
          "output_type": "stream",
          "name": "stdout",
          "text": [
            "28 1000\n",
            "28000\n",
            "8000\n"
          ]
        }
      ]
    }
  ]
}